{
 "cells": [
  {
   "cell_type": "code",
   "execution_count": 1,
   "metadata": {},
   "outputs": [],
   "source": [
    "import cv2\n",
    "import numpy as np"
   ]
  },
  {
   "cell_type": "code",
   "execution_count": 2,
   "metadata": {},
   "outputs": [
    {
     "data": {
      "text/plain": [
       "(array([[  0,   0,   0,   0,   0],\n",
       "        [  0, 125, 125, 125,   0],\n",
       "        [  0, 125, 125, 125,   0],\n",
       "        [  0, 125, 125, 125,   0],\n",
       "        [  0,   0,   0,   0,   0]]), 5)"
      ]
     },
     "execution_count": 2,
     "metadata": {},
     "output_type": "execute_result"
    }
   ],
   "source": [
    "arr = np.array([[0, 0, 0, 0, 0], [0, 125, 125, 125, 0], [0, 125, 125, 125, 0], [0, 125, 125, 125, 0], [0, 0, 0, 0, 0]])\n",
    "\n",
    "# arr = np.array([[0, 0, 0, 0], [0, 125, 125, 0], [0, 125, 125, 0], [0, 0, 0, 0]])\n",
    "\n",
    "# arr = np.array([[0,0,0], [0, 125, 0], [0, 0, 0]])\n",
    "arr, len(arr)"
   ]
  },
  {
   "cell_type": "code",
   "execution_count": 3,
   "metadata": {},
   "outputs": [
    {
     "name": "stdout",
     "output_type": "stream",
     "text": [
      "Row Projection: [0, 375, 375, 375, 0]\n"
     ]
    }
   ],
   "source": [
    "#Row Projection\n",
    "r_p = []\n",
    "\n",
    "for i in range(len(arr)):\n",
    "    r_p.append(np.sum(arr[i]))\n",
    "\n",
    "print(\"Row Projection: \", end='')\n",
    "print(r_p)"
   ]
  },
  {
   "cell_type": "code",
   "execution_count": 4,
   "metadata": {},
   "outputs": [
    {
     "name": "stdout",
     "output_type": "stream",
     "text": [
      "Column Projection: [0, 375, 375, 375, 0]\n"
     ]
    }
   ],
   "source": [
    "#Column projection\n",
    "c_p = []\n",
    "\n",
    "for i in range(len(arr)):\n",
    "    tmp = []\n",
    "    for j in range(len(arr[i])):\n",
    "        tmp.append(arr[j][i])\n",
    "\n",
    "    c_p.append(sum(tmp))\n",
    "\n",
    "print(\"Column Projection: \", end='')\n",
    "print(c_p)"
   ]
  },
  {
   "cell_type": "code",
   "execution_count": 5,
   "metadata": {},
   "outputs": [
    {
     "name": "stdout",
     "output_type": "stream",
     "text": [
      "45 Degree dDagonal Projection: [0, 0, 125, 250, 375, 250, 125, 0, 0]\n"
     ]
    }
   ],
   "source": [
    "#45 degree projection\n",
    "\n",
    "d45_p = []\n",
    "\n",
    "d45_p = [0 for i in range(len(arr)+len(arr[0])-1)]\n",
    "\n",
    "for i in range(len(arr)):\n",
    "    for j in range(len(arr[i])):\n",
    "        #print(i, j)\n",
    "        d45_p[i+j] += arr[i][j]\n",
    "\n",
    "\n",
    "print(\"45 Degree dDagonal Projection: \", end='')\n",
    "print(d45_p)"
   ]
  },
  {
   "cell_type": "code",
   "execution_count": 6,
   "metadata": {},
   "outputs": [
    {
     "name": "stdout",
     "output_type": "stream",
     "text": [
      "0 0\n",
      "1 1\n",
      "2 2\n",
      "3 3\n",
      "4 4\n",
      "0 1\n",
      "1 2\n",
      "2 3\n",
      "3 4\n",
      "0 2\n",
      "1 3\n",
      "2 4\n",
      "0 3\n",
      "1 4\n",
      "0 4\n",
      "[375, 250, 125, 0, 0]\n",
      "[375, 250, 125, 0, 0]\n",
      "135 Degree Diagonal Projection: [0, 0, 125, 250, 375, 250, 125, 0, 0]\n"
     ]
    }
   ],
   "source": [
    "#135 degree projection\n",
    "\n",
    "d135_p = []\n",
    "\n",
    "sum_first = []\n",
    "sum_second = []\n",
    "start = len(arr[0])-1\n",
    "\n",
    "# print(\"start: \" + str(start))\n",
    "\n",
    "# for k in range((2*len(arr)-1)//2):\n",
    "#     tmp_sum = 0\n",
    "#     tmp_sum_opp = 0\n",
    "#     for i in range(len(arr)):\n",
    "#         for j in range(len(arr[i])):\n",
    "#             if(i<j):\n",
    "#                 #print(i, j)\n",
    "#                 temp = i\n",
    "#                 temp2 = j\n",
    "#                 while(temp<len(arr) and temp2<len(arr[0])):\n",
    "#                     print(temp, temp2)\n",
    "#                     temp += 1\n",
    "#                     temp2 += 1\n",
    "                \n",
    "\n",
    "# for k in range((2*len(arr)-1)//2):\n",
    "#     tmp_sum = 0\n",
    "#     tmp_sum_opp = 0\n",
    "#     for i in range(len(arr)):\n",
    "#         for j in range(len(arr[i])):\n",
    "#             temp = i\n",
    "#             temp2 = j\n",
    "#             while(temp<len(arr)):\n",
    "            \n",
    "    \n",
    "# for i in range(len(arr)):\n",
    "for j in range(len(arr[0])):\n",
    "    tmp_sum = 0\n",
    "    tmp_sum_opp = 0\n",
    "    temp = 0\n",
    "    temp2 = j\n",
    "    if(temp<=temp2):\n",
    "        while(temp<len(arr) and temp2<len(arr[0])):\n",
    "            print(temp, temp2)\n",
    "            \n",
    "            tmp_sum += arr[temp][temp2]\n",
    "            tmp_sum_opp += arr[temp2][temp]\n",
    "            \n",
    "            temp += 1\n",
    "            temp2 += 1\n",
    "        #print(tmp_sum, tmp_sum_opp)\n",
    "        sum_first.append(tmp_sum)\n",
    "        sum_second.append(tmp_sum_opp)\n",
    "\n",
    "\n",
    "\n",
    "print(sum_first)\n",
    "print(sum_second)\n",
    "d135_p = sum_first[::-1]\n",
    "for i in range(1, len(sum_second)):\n",
    "    d135_p.append(sum_second[i])\n",
    "\n",
    "print(\"135 Degree Diagonal Projection: \", end='')\n",
    "print(d135_p)"
   ]
  },
  {
   "cell_type": "code",
   "execution_count": 70,
   "metadata": {},
   "outputs": [
    {
     "data": {
      "text/plain": [
       "[[0], [0, 0], [0, 125, 0], [0, 125, 125, 0], [0, 125, 0], [0, 0], [0]]"
      ]
     },
     "execution_count": 70,
     "metadata": {},
     "output_type": "execute_result"
    }
   ],
   "source": [
    "min_135_diag = -len(arr)+1\n",
    "\n",
    "d135_p_temp = [[] for _ in range(len(arr)+len(arr[0])-1)]\n",
    "\n",
    "for i in range(len(arr)):\n",
    "    for j in range(len(arr[i])):\n",
    "        d135_p_temp[i-j-min_135_diag].append(arr[i][j])\n",
    "        \n",
    "d135_p_temp"
   ]
  },
  {
   "cell_type": "markdown",
   "metadata": {},
   "source": [
    "# Q1"
   ]
  },
  {
   "cell_type": "code",
   "execution_count": 14,
   "metadata": {},
   "outputs": [
    {
     "data": {
      "text/plain": [
       "array([[  0,   0,   0,   0,   0],\n",
       "       [375, 375, 375, 375, 375],\n",
       "       [375, 375, 375, 375, 375],\n",
       "       [375, 375, 375, 375, 375],\n",
       "       [  0,   0,   0,   0,   0]])"
      ]
     },
     "execution_count": 14,
     "metadata": {},
     "output_type": "execute_result"
    }
   ],
   "source": [
    "row_back = np.zeros((len(arr), len(arr[0])), dtype='int')\n",
    "\n",
    "for i in range(len(row_back)):\n",
    "    row_back[i] = r_p[i]\n",
    "\n",
    "row_back"
   ]
  },
  {
   "cell_type": "markdown",
   "metadata": {},
   "source": [
    "# Q2"
   ]
  },
  {
   "cell_type": "code",
   "execution_count": 15,
   "metadata": {},
   "outputs": [
    {
     "data": {
      "text/plain": [
       "array([[  0, 375, 375, 375,   0],\n",
       "       [375, 750, 750, 750, 375],\n",
       "       [375, 750, 750, 750, 375],\n",
       "       [375, 750, 750, 750, 375],\n",
       "       [  0, 375, 375, 375,   0]])"
      ]
     },
     "execution_count": 15,
     "metadata": {},
     "output_type": "execute_result"
    }
   ],
   "source": [
    "col_back = np.copy(row_back)\n",
    "\n",
    "for i in range(len(arr)):\n",
    "    for j in range(len(arr[i])):\n",
    "        col_back[i][j] += c_p[j]\n",
    "\n",
    "col_back"
   ]
  },
  {
   "cell_type": "markdown",
   "metadata": {},
   "source": [
    "# Q3"
   ]
  },
  {
   "cell_type": "code",
   "execution_count": 16,
   "metadata": {},
   "outputs": [
    {
     "data": {
      "text/plain": [
       "array([[   0,  375,  500,  625,  375],\n",
       "       [ 375,  875, 1000, 1125,  625],\n",
       "       [ 500, 1000, 1125, 1000,  500],\n",
       "       [ 625, 1125, 1000,  875,  375],\n",
       "       [ 375,  625,  500,  375,    0]])"
      ]
     },
     "execution_count": 16,
     "metadata": {},
     "output_type": "execute_result"
    }
   ],
   "source": [
    "d45_back = np.copy(col_back)\n",
    "\n",
    "for i in range(len(arr)):\n",
    "    for j in range(len(arr[i])):\n",
    "        d45_back[i][j] += d45_p[i+j]\n",
    "\n",
    "d45_back"
   ]
  },
  {
   "cell_type": "markdown",
   "metadata": {},
   "source": [
    "# Q4"
   ]
  },
  {
   "cell_type": "code",
   "execution_count": 17,
   "metadata": {},
   "outputs": [
    {
     "data": {
      "text/plain": [
       "array([[ 375,  625,  625,  625,  375],\n",
       "       [ 625, 1250, 1250, 1250,  625],\n",
       "       [ 625, 1250, 1500, 1250,  625],\n",
       "       [ 625, 1250, 1250, 1250,  625],\n",
       "       [ 375,  625,  625,  625,  375]])"
      ]
     },
     "execution_count": 17,
     "metadata": {},
     "output_type": "execute_result"
    }
   ],
   "source": [
    "d135_back = np.copy(d45_back)\n",
    "\n",
    "min_135_diag = -len(arr)+1\n",
    "\n",
    "for i in range(len(arr)):\n",
    "    for j in range(len(arr[i])):\n",
    "        d135_back[i][j] += d135_p[i-j-min_135_diag]\n",
    "\n",
    "d135_back"
   ]
  },
  {
   "cell_type": "code",
   "execution_count": 18,
   "metadata": {},
   "outputs": [
    {
     "data": {
      "text/plain": [
       "3"
      ]
     },
     "execution_count": 18,
     "metadata": {},
     "output_type": "execute_result"
    }
   ],
   "source": [
    "len(arr)//2+1"
   ]
  },
  {
   "cell_type": "code",
   "execution_count": null,
   "metadata": {},
   "outputs": [],
   "source": []
  }
 ],
 "metadata": {
  "kernelspec": {
   "display_name": "Python 3",
   "language": "python",
   "name": "python3"
  },
  "language_info": {
   "codemirror_mode": {
    "name": "ipython",
    "version": 3
   },
   "file_extension": ".py",
   "mimetype": "text/x-python",
   "name": "python",
   "nbconvert_exporter": "python",
   "pygments_lexer": "ipython3",
   "version": "3.7.4"
  }
 },
 "nbformat": 4,
 "nbformat_minor": 2
}
