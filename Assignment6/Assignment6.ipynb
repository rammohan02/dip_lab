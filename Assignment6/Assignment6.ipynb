{
 "cells": [
  {
   "cell_type": "code",
   "execution_count": 1,
   "metadata": {},
   "outputs": [],
   "source": [
    "import cv2\n",
    "import numpy as np\n",
    "from skimage.util import random_noise\n",
    "from matplotlib import pyplot as plt\n",
    "import statistics"
   ]
  },
  {
   "cell_type": "code",
   "execution_count": 2,
   "metadata": {},
   "outputs": [],
   "source": [
    "img = cv2.imread(\"Lena.png\")\n",
    "\n",
    "cv2.imshow(\"Original\", img)\n",
    "cv2.waitKey(0)\n",
    "cv2.destroyAllWindows()"
   ]
  },
  {
   "cell_type": "code",
   "execution_count": 3,
   "metadata": {},
   "outputs": [],
   "source": [
    "# Converting to gray scale\n",
    "\n",
    "gray = cv2.cvtColor(img, cv2.COLOR_BGR2GRAY)"
   ]
  },
  {
   "cell_type": "code",
   "execution_count": 4,
   "metadata": {},
   "outputs": [],
   "source": [
    "# Adding noise to images\n",
    "\n",
    "def add_sp_noise(img, amt):\n",
    "    noise_img = random_noise(img, mode='s&p',amount=amt)\n",
    "    noise_img = np.array(255*noise_img, dtype = 'uint8')\n",
    "    \n",
    "    return noise_img"
   ]
  },
  {
   "cell_type": "code",
   "execution_count": 5,
   "metadata": {},
   "outputs": [],
   "source": [
    "noise_img1 = add_sp_noise(gray, 0.1)\n",
    "noise_img2 = add_sp_noise(gray, 0.2)\n",
    "noise_img3 = add_sp_noise(gray, 0.3)\n",
    "noise_img4 = add_sp_noise(gray, 0.4)\n",
    "noise_img5 = add_sp_noise(gray, 0.5)\n",
    "noise_img6 = add_sp_noise(gray, 0.6)\n",
    "noise_img7 = add_sp_noise(gray, 0.7)\n",
    "noise_img8 = add_sp_noise(gray, 0.8)\n",
    "noise_img9 = add_sp_noise(gray, 0.9)\n",
    "noise_img10 = add_sp_noise(gray, 1.0)\n",
    "\n",
    "cv2.imshow(\"Original\", gray)\n",
    "cv2.imshow(\"noise_img1\", noise_img1)\n",
    "cv2.imshow(\"noise_img2\", noise_img2)\n",
    "cv2.imshow(\"noise_img3\", noise_img3)\n",
    "cv2.imshow(\"noise_img4\", noise_img4)\n",
    "cv2.imshow(\"noise_img5\", noise_img5)\n",
    "cv2.imshow(\"noise_img6\", noise_img6)\n",
    "cv2.imshow(\"noise_img7\", noise_img7)\n",
    "cv2.imshow(\"noise_img8\", noise_img8)\n",
    "cv2.imshow(\"noise_img9\", noise_img9)\n",
    "cv2.imshow(\"noise_img10\", noise_img10)\n",
    "cv2.waitKey(0)\n",
    "cv2.destroyAllWindows()"
   ]
  },
  {
   "cell_type": "markdown",
   "metadata": {},
   "source": [
    "# Q1"
   ]
  },
  {
   "cell_type": "code",
   "execution_count": 6,
   "metadata": {},
   "outputs": [
    {
     "name": "stdout",
     "output_type": "stream",
     "text": [
      "[[0.11111111 0.11111111 0.11111111]\n",
      " [0.11111111 0.11111111 0.11111111]\n",
      " [0.11111111 0.11111111 0.11111111]]\n",
      "[[0.04 0.04 0.04 0.04 0.04]\n",
      " [0.04 0.04 0.04 0.04 0.04]\n",
      " [0.04 0.04 0.04 0.04 0.04]\n",
      " [0.04 0.04 0.04 0.04 0.04]\n",
      " [0.04 0.04 0.04 0.04 0.04]]\n",
      "[[0.02040816 0.02040816 0.02040816 0.02040816 0.02040816 0.02040816\n",
      "  0.02040816]\n",
      " [0.02040816 0.02040816 0.02040816 0.02040816 0.02040816 0.02040816\n",
      "  0.02040816]\n",
      " [0.02040816 0.02040816 0.02040816 0.02040816 0.02040816 0.02040816\n",
      "  0.02040816]\n",
      " [0.02040816 0.02040816 0.02040816 0.02040816 0.02040816 0.02040816\n",
      "  0.02040816]\n",
      " [0.02040816 0.02040816 0.02040816 0.02040816 0.02040816 0.02040816\n",
      "  0.02040816]\n",
      " [0.02040816 0.02040816 0.02040816 0.02040816 0.02040816 0.02040816\n",
      "  0.02040816]\n",
      " [0.02040816 0.02040816 0.02040816 0.02040816 0.02040816 0.02040816\n",
      "  0.02040816]]\n"
     ]
    }
   ],
   "source": [
    "# Creating filters\n",
    "\n",
    "# 3X3\n",
    "filter3 = np.ones((3,3))\n",
    "filter3 = filter3/9\n",
    "\n",
    "# 5X5\n",
    "filter5 = np.ones((5,5))\n",
    "filter5 = filter5/25\n",
    "\n",
    "# 7X7\n",
    "filter7 = np.ones((7,7))\n",
    "filter7 = filter7/49\n",
    "\n",
    "\n",
    "print(filter3)\n",
    "print(filter5)\n",
    "print(filter7)"
   ]
  },
  {
   "cell_type": "code",
   "execution_count": 7,
   "metadata": {},
   "outputs": [],
   "source": [
    "# Padding Zeros function\n",
    "def pad_zeros(img_given, filter_given):\n",
    "    a = (filter_given.shape[0]-1)//2\n",
    "    b = (filter_given.shape[1]-1)//2\n",
    "    \n",
    "    new_img = np.zeros((img_given.shape[0]+2*a+2*a, img_given.shape[1]+2*b+2*b), dtype=int)\n",
    "    \n",
    "    for i in range(2*a, img_given.shape[0]+2*a):\n",
    "        for j in range(2*b, img_given.shape[1]+2*b):\n",
    "            new_img[i, j] = img_given[i-filter_given.shape[0]+1, j-filter_given.shape[1]+1]\n",
    "    \n",
    "    new_img = np.array(new_img, dtype='uint8')\n",
    "    return new_img"
   ]
  },
  {
   "cell_type": "code",
   "execution_count": 8,
   "metadata": {},
   "outputs": [],
   "source": [
    "def avg_filtering(noisy_img, padded_img, filter_gi):\n",
    "    output_img1 = np.zeros((noisy_img.shape[0]+filter_gi.shape[0]-1, noisy_img.shape[1]+filter_gi.shape[1]-1), dtype=int)\n",
    "    a = (filter_gi.shape[0]-1)//2\n",
    "    b = (filter_gi.shape[1]-1)//2\n",
    "    \n",
    "    for i in range(noisy_img.shape[0]+filter_gi.shape[0]-1):\n",
    "        for j in range(noisy_img.shape[1]+filter_gi.shape[1]-1):\n",
    "            for k in range(0, 2*a+1):\n",
    "                for l in range(0, 2*b+1):\n",
    "                    output_img1[i, j] += padded_img[i+k, j+l]*filter_gi[k, l]\n",
    "#             output_img1[i, j] = (padded_img[i, j]*filter_gi[0, 0] + padded_img[i, j+1]*filter_gi[0, 1] + padded_img[i, j+2]*filter_gi[0, 2]) \\\n",
    "#             + (padded_img[i+1, j]*filter_gi[1, 0] + padded_img[i+1, j+1]*filter_gi[1, 1] + padded_img[i+1, j+2]*filter_gi[1, 2]) \\\n",
    "#             + (padded_img[i+2, j]*filter_gi[2, 0] + padded_img[i+2, j+1]*filter_gi[2, 1] + padded_img[i+2, j+2]*filter_gi[2, 2])\n",
    "    \n",
    "    output_img1 = np.array(output_img1, dtype='uint8')\n",
    "    \n",
    "    return output_img1"
   ]
  },
  {
   "cell_type": "markdown",
   "metadata": {},
   "source": [
    "3x3 filter"
   ]
  },
  {
   "cell_type": "code",
   "execution_count": 9,
   "metadata": {},
   "outputs": [
    {
     "name": "stdout",
     "output_type": "stream",
     "text": [
      "[[  0   0   0 ...   0   0   0]\n",
      " [  0   0   0 ...   0   0   0]\n",
      " [  0   0 162 ... 128   0   0]\n",
      " ...\n",
      " [  0   0  44 ... 108   0   0]\n",
      " [  0   0   0 ...   0   0   0]\n",
      " [  0   0   0 ...   0   0   0]]\n"
     ]
    }
   ],
   "source": [
    "new_img3_1 = pad_zeros(noise_img1, filter3)\n",
    "new_img3_2 = pad_zeros(noise_img2, filter3)\n",
    "new_img3_3 = pad_zeros(noise_img3, filter3)\n",
    "new_img3_4 = pad_zeros(noise_img4, filter3)\n",
    "new_img3_5 = pad_zeros(noise_img5, filter3)\n",
    "new_img3_6 = pad_zeros(noise_img6, filter3)\n",
    "new_img3_7 = pad_zeros(noise_img7, filter3)\n",
    "new_img3_8 = pad_zeros(noise_img8, filter3)\n",
    "new_img3_9 = pad_zeros(noise_img9, filter3)\n",
    "new_img3_10 = pad_zeros(noise_img10, filter3)\n",
    "\n",
    "print(new_img3_2)"
   ]
  },
  {
   "cell_type": "code",
   "execution_count": 10,
   "metadata": {},
   "outputs": [],
   "source": [
    "noisy_images = [noise_img1, noise_img2, noise_img3, noise_img4, noise_img5, noise_img6, noise_img7, noise_img8, noise_img9, noise_img10]\n",
    "padded_images_3 = [new_img3_1, new_img3_2, new_img3_3, new_img3_4, new_img3_5, new_img3_6, new_img3_7, new_img3_8, new_img3_9, new_img3_10]\n",
    "\n",
    "output_images_3 = []\n",
    "\n",
    "for i in range(len(noisy_images)):\n",
    "    output_images_3.append(avg_filtering(noisy_images[i], padded_images_3[i], filter3))"
   ]
  },
  {
   "cell_type": "code",
   "execution_count": 29,
   "metadata": {},
   "outputs": [],
   "source": [
    "for i in range(len(output_images_3)):\n",
    "    cv2.imshow(\"Original1\", noisy_images[i])\n",
    "    cv2.imshow(\"Original\", output_images_3[i])\n",
    "    title = \"3x3 filter noisy image \"+str(i+1) + \" .jpg\"\n",
    "    cv2.imwrite(title, output_images_3[i])\n",
    "    cv2.waitKey(0)\n",
    "    cv2.destroyAllWindows()"
   ]
  },
  {
   "cell_type": "markdown",
   "metadata": {},
   "source": [
    "5x5 filter"
   ]
  },
  {
   "cell_type": "code",
   "execution_count": 12,
   "metadata": {},
   "outputs": [
    {
     "name": "stdout",
     "output_type": "stream",
     "text": [
      "[[0 0 0 ... 0 0 0]\n",
      " [0 0 0 ... 0 0 0]\n",
      " [0 0 0 ... 0 0 0]\n",
      " ...\n",
      " [0 0 0 ... 0 0 0]\n",
      " [0 0 0 ... 0 0 0]\n",
      " [0 0 0 ... 0 0 0]]\n"
     ]
    }
   ],
   "source": [
    "new_img5_1 = pad_zeros(noise_img1, filter5)\n",
    "new_img5_2 = pad_zeros(noise_img2, filter5)\n",
    "new_img5_3 = pad_zeros(noise_img3, filter5)\n",
    "new_img5_4 = pad_zeros(noise_img4, filter5)\n",
    "new_img5_5 = pad_zeros(noise_img5, filter5)\n",
    "new_img5_6 = pad_zeros(noise_img6, filter5)\n",
    "new_img5_7 = pad_zeros(noise_img7, filter5)\n",
    "new_img5_8 = pad_zeros(noise_img8, filter5)\n",
    "new_img5_9 = pad_zeros(noise_img9, filter5)\n",
    "new_img5_10 = pad_zeros(noise_img10, filter5)\n",
    "\n",
    "print(new_img5_2)"
   ]
  },
  {
   "cell_type": "code",
   "execution_count": 13,
   "metadata": {},
   "outputs": [],
   "source": [
    "noisy_images = [noise_img1, noise_img2, noise_img3, noise_img4, noise_img5, noise_img6, noise_img7, noise_img8, noise_img9, noise_img10]\n",
    "padded_images_5 = [new_img5_1, new_img5_2, new_img5_3, new_img5_4, new_img5_5, new_img5_6, new_img5_7, new_img5_8, new_img5_9, new_img5_10]\n",
    "\n",
    "output_images_5 = []\n",
    "\n",
    "for i in range(len(noisy_images)):\n",
    "    output_images_5.append(avg_filtering(noisy_images[i], padded_images_5[i], filter5))"
   ]
  },
  {
   "cell_type": "code",
   "execution_count": 30,
   "metadata": {},
   "outputs": [],
   "source": [
    "for i in range(len(output_images_5)):\n",
    "    cv2.imshow(\"Original1\", noisy_images[i])\n",
    "    cv2.imshow(\"Original\", output_images_5[i])\n",
    "    title = \"5x5 filter noisy image \"+str(i+1) + \" .jpg\"\n",
    "    cv2.imwrite(title, output_images_5[i])\n",
    "    cv2.waitKey(0)\n",
    "    cv2.destroyAllWindows()"
   ]
  },
  {
   "cell_type": "markdown",
   "metadata": {},
   "source": [
    "7x7 filter"
   ]
  },
  {
   "cell_type": "code",
   "execution_count": 15,
   "metadata": {},
   "outputs": [
    {
     "name": "stdout",
     "output_type": "stream",
     "text": [
      "[[0 0 0 ... 0 0 0]\n",
      " [0 0 0 ... 0 0 0]\n",
      " [0 0 0 ... 0 0 0]\n",
      " ...\n",
      " [0 0 0 ... 0 0 0]\n",
      " [0 0 0 ... 0 0 0]\n",
      " [0 0 0 ... 0 0 0]]\n"
     ]
    }
   ],
   "source": [
    "new_img7_1 = pad_zeros(noise_img1, filter7)\n",
    "new_img7_2 = pad_zeros(noise_img2, filter7)\n",
    "new_img7_3 = pad_zeros(noise_img3, filter7)\n",
    "new_img7_4 = pad_zeros(noise_img4, filter7)\n",
    "new_img7_5 = pad_zeros(noise_img5, filter7)\n",
    "new_img7_6 = pad_zeros(noise_img6, filter7)\n",
    "new_img7_7 = pad_zeros(noise_img7, filter7)\n",
    "new_img7_8 = pad_zeros(noise_img8, filter7)\n",
    "new_img7_9 = pad_zeros(noise_img9, filter7)\n",
    "new_img7_10 = pad_zeros(noise_img10, filter7)\n",
    "\n",
    "print(new_img7_2)"
   ]
  },
  {
   "cell_type": "code",
   "execution_count": 16,
   "metadata": {},
   "outputs": [],
   "source": [
    "noisy_images = [noise_img1, noise_img2, noise_img3, noise_img4, noise_img5, noise_img6, noise_img7, noise_img8, noise_img9, noise_img10]\n",
    "padded_images_7 = [new_img7_1, new_img7_2, new_img7_3, new_img7_4, new_img7_5, new_img7_6, new_img7_7, new_img7_8, new_img7_9, new_img7_10]\n",
    "\n",
    "output_images_7 = []\n",
    "\n",
    "for i in range(len(noisy_images)):\n",
    "    output_images_7.append(avg_filtering(noisy_images[i], padded_images_7[i], filter7))"
   ]
  },
  {
   "cell_type": "code",
   "execution_count": 31,
   "metadata": {},
   "outputs": [],
   "source": [
    "for i in range(len(output_images_7)):\n",
    "    cv2.imshow(\"Original1\", noisy_images[i])\n",
    "    cv2.imshow(\"Original\", output_images_7[i])\n",
    "    title = \"7x7 filter noisy image \"+str(i+1) + \" .jpg\"\n",
    "    cv2.imwrite(title, output_images_7[i])\n",
    "    cv2.waitKey(0)\n",
    "    cv2.destroyAllWindows()"
   ]
  },
  {
   "cell_type": "code",
   "execution_count": 32,
   "metadata": {},
   "outputs": [],
   "source": [
    "# inbuilt function\n",
    "blur = cv2.blur(noise_img1,(3,3))\n",
    "cv2.imshow(\"Inbuilt\", blur)\n",
    "cv2.waitKey(0)\n",
    "cv2.destroyAllWindows()"
   ]
  },
  {
   "cell_type": "markdown",
   "metadata": {},
   "source": [
    "# Q2"
   ]
  },
  {
   "cell_type": "code",
   "execution_count": 18,
   "metadata": {},
   "outputs": [],
   "source": [
    "def median_filtering(noisy_img, padded_img, filter_gi):\n",
    "    output_img1 = np.zeros((noisy_img.shape[0]+filter_gi.shape[0]-1, noisy_img.shape[1]+filter_gi.shape[1]-1), dtype=int)\n",
    "    a = (filter_gi.shape[0]-1)//2\n",
    "    b = (filter_gi.shape[1]-1)//2\n",
    "    \n",
    "    for i in range(noisy_img.shape[0]+filter_gi.shape[0]-1):\n",
    "        for j in range(noisy_img.shape[1]+filter_gi.shape[1]-1):\n",
    "            \n",
    "            list_neigh = []\n",
    "            for k in range(0, 2*a+1):\n",
    "                for l in range(0, 2*b+1):\n",
    "                    list_neigh.append(padded_img[i+k, j+l])\n",
    "                    # output_img1[i, j] += padded_img[i+k, j+l]*filter_gi[k, l]\n",
    "            \n",
    "            list_neigh = sorted(list_neigh)\n",
    "            output_img1[i, j] = int(statistics.median(list_neigh))\n",
    "\n",
    "    output_img1 = np.array(output_img1, dtype='uint8')\n",
    "    \n",
    "    return output_img1"
   ]
  },
  {
   "cell_type": "markdown",
   "metadata": {},
   "source": [
    "3x3 filter"
   ]
  },
  {
   "cell_type": "code",
   "execution_count": 19,
   "metadata": {},
   "outputs": [],
   "source": [
    "noisy_images = [noise_img1, noise_img2, noise_img3, noise_img4, noise_img5, noise_img6, noise_img7, noise_img8, noise_img9, noise_img10]\n",
    "padded_images_3 = [new_img3_1, new_img3_2, new_img3_3, new_img3_4, new_img3_5, new_img3_6, new_img3_7, new_img3_8, new_img3_9, new_img3_10]\n",
    "\n",
    "m_output_images_3 = []\n",
    "\n",
    "for i in range(len(noisy_images)):\n",
    "    m_output_images_3.append(median_filtering(noisy_images[i], padded_images_3[i], filter3))"
   ]
  },
  {
   "cell_type": "code",
   "execution_count": 33,
   "metadata": {},
   "outputs": [],
   "source": [
    "for i in range(len(m_output_images_3)):\n",
    "    cv2.imshow(\"Original1\", noisy_images[i])\n",
    "    cv2.imshow(\"Original\", m_output_images_3[i])\n",
    "    title = \"3x3 median filter \"+str(i+1) + \" .jpg\"\n",
    "    cv2.imwrite(title, m_output_images_3[i])\n",
    "    cv2.waitKey(0)\n",
    "    cv2.destroyAllWindows()"
   ]
  },
  {
   "cell_type": "markdown",
   "metadata": {},
   "source": [
    "5x5 filter"
   ]
  },
  {
   "cell_type": "code",
   "execution_count": 21,
   "metadata": {},
   "outputs": [],
   "source": [
    "noisy_images = [noise_img1, noise_img2, noise_img3, noise_img4, noise_img5, noise_img6, noise_img7, noise_img8, noise_img9, noise_img10]\n",
    "padded_images_5 = [new_img5_1, new_img5_2, new_img5_3, new_img5_4, new_img5_5, new_img5_6, new_img5_7, new_img5_8, new_img5_9, new_img5_10]\n",
    "\n",
    "m_output_images_5 = []\n",
    "\n",
    "for i in range(len(noisy_images)):\n",
    "    m_output_images_5.append(median_filtering(noisy_images[i], padded_images_5[i], filter5))"
   ]
  },
  {
   "cell_type": "code",
   "execution_count": 22,
   "metadata": {},
   "outputs": [],
   "source": [
    "for i in range(len(m_output_images_5)):\n",
    "    cv2.imshow(\"Original1\", noisy_images[i])\n",
    "    cv2.imshow(\"Original\", m_output_images_5[i])\n",
    "    title = \"5x5 median filter \"+str(i+1) + \" .jpg\"\n",
    "    cv2.imwrite(title, m_output_images_5[i])\n",
    "    cv2.waitKey(0)\n",
    "    cv2.destroyAllWindows()"
   ]
  },
  {
   "cell_type": "markdown",
   "metadata": {},
   "source": [
    "7x7 filter"
   ]
  },
  {
   "cell_type": "code",
   "execution_count": 23,
   "metadata": {},
   "outputs": [],
   "source": [
    "noisy_images = [noise_img1, noise_img2, noise_img3, noise_img4, noise_img5, noise_img6, noise_img7, noise_img8, noise_img9, noise_img10]\n",
    "padded_images_7 = [new_img7_1, new_img7_2, new_img7_3, new_img7_4, new_img7_5, new_img7_6, new_img7_7, new_img7_8, new_img7_9, new_img7_10]\n",
    "\n",
    "m_output_images_7 = []\n",
    "\n",
    "for i in range(len(noisy_images)):\n",
    "    m_output_images_7.append(median_filtering(noisy_images[i], padded_images_7[i], filter7))"
   ]
  },
  {
   "cell_type": "code",
   "execution_count": 34,
   "metadata": {},
   "outputs": [],
   "source": [
    "for i in range(len(m_output_images_7)):\n",
    "    cv2.imshow(\"Original1\", noisy_images[i])\n",
    "    cv2.imshow(\"Original\", m_output_images_7[i])\n",
    "    title = \"7x7 median filter \"+str(i+1) + \" .jpg\"\n",
    "    cv2.imwrite(title, m_output_images_7[i])\n",
    "    cv2.waitKey(0)\n",
    "    cv2.destroyAllWindows()"
   ]
  },
  {
   "cell_type": "code",
   "execution_count": 35,
   "metadata": {},
   "outputs": [],
   "source": [
    "# inbuilt function\n",
    "median_blur = cv2.medianBlur(noise_img1, 3)\n",
    "cv2.imshow(\"Inbuilt\", median_blur)\n",
    "cv2.waitKey(0)\n",
    "cv2.destroyAllWindows()"
   ]
  },
  {
   "cell_type": "code",
   "execution_count": null,
   "metadata": {},
   "outputs": [],
   "source": [
    "cv2.medianBlur(img,5)\n",
    "cv2.blur(img,(5,5))"
   ]
  }
 ],
 "metadata": {
  "kernelspec": {
   "display_name": "Python 3",
   "language": "python",
   "name": "python3"
  },
  "language_info": {
   "codemirror_mode": {
    "name": "ipython",
    "version": 3
   },
   "file_extension": ".py",
   "mimetype": "text/x-python",
   "name": "python",
   "nbconvert_exporter": "python",
   "pygments_lexer": "ipython3",
   "version": "3.7.4"
  }
 },
 "nbformat": 4,
 "nbformat_minor": 2
}
