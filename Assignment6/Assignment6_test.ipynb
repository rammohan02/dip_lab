{
 "cells": [
  {
   "cell_type": "code",
   "execution_count": 1,
   "metadata": {},
   "outputs": [],
   "source": [
    "import cv2\n",
    "import numpy as np\n",
    "from skimage.util import random_noise\n",
    "from matplotlib import pyplot as plt\n",
    "import statistics"
   ]
  },
  {
   "cell_type": "code",
   "execution_count": 2,
   "metadata": {},
   "outputs": [],
   "source": [
    "img = cv2.imread(\"Lena.png\")\n",
    "\n",
    "cv2.imshow(\"Original\", img)\n",
    "cv2.waitKey(0)\n",
    "cv2.destroyAllWindows()"
   ]
  },
  {
   "cell_type": "code",
   "execution_count": 3,
   "metadata": {},
   "outputs": [],
   "source": [
    "# Converting to gray scale\n",
    "\n",
    "gray = cv2.cvtColor(img, cv2.COLOR_BGR2GRAY)"
   ]
  },
  {
   "cell_type": "code",
   "execution_count": 4,
   "metadata": {},
   "outputs": [],
   "source": [
    "# Adding noise to images\n",
    "\n",
    "def add_sp_noise(img, amt):\n",
    "    noise_img = random_noise(img, mode='s&p',amount=amt)\n",
    "    noise_img = np.array(255*noise_img, dtype = 'uint8')\n",
    "    \n",
    "    return noise_img"
   ]
  },
  {
   "cell_type": "code",
   "execution_count": 5,
   "metadata": {},
   "outputs": [],
   "source": [
    "noise_img1 = add_sp_noise(gray, 0.1)\n",
    "noise_img2 = add_sp_noise(gray, 0.2)\n",
    "noise_img3 = add_sp_noise(gray, 0.3)\n",
    "noise_img4 = add_sp_noise(gray, 0.4)\n",
    "noise_img5 = add_sp_noise(gray, 0.5)\n",
    "noise_img6 = add_sp_noise(gray, 0.6)\n",
    "noise_img7 = add_sp_noise(gray, 0.7)\n",
    "noise_img8 = add_sp_noise(gray, 0.8)\n",
    "noise_img9 = add_sp_noise(gray, 0.9)\n",
    "noise_img10 = add_sp_noise(gray, 1.0)\n",
    "\n",
    "cv2.imshow(\"Original\", gray)\n",
    "cv2.imshow(\"noise_img1\", noise_img1)\n",
    "cv2.imshow(\"noise_img2\", noise_img2)\n",
    "cv2.imshow(\"noise_img3\", noise_img3)\n",
    "cv2.imshow(\"noise_img4\", noise_img4)\n",
    "cv2.imshow(\"noise_img5\", noise_img5)\n",
    "cv2.imshow(\"noise_img6\", noise_img6)\n",
    "cv2.imshow(\"noise_img7\", noise_img7)\n",
    "cv2.imshow(\"noise_img8\", noise_img8)\n",
    "cv2.imshow(\"noise_img9\", noise_img9)\n",
    "cv2.imshow(\"noise_img10\", noise_img10)\n",
    "cv2.waitKey(0)\n",
    "cv2.destroyAllWindows()"
   ]
  },
  {
   "cell_type": "markdown",
   "metadata": {},
   "source": [
    "# Q1"
   ]
  },
  {
   "cell_type": "code",
   "execution_count": 6,
   "metadata": {},
   "outputs": [
    {
     "name": "stdout",
     "output_type": "stream",
     "text": [
      "[[0.11111111 0.11111111 0.11111111]\n",
      " [0.11111111 0.11111111 0.11111111]\n",
      " [0.11111111 0.11111111 0.11111111]]\n",
      "[[0.04 0.04 0.04 0.04 0.04]\n",
      " [0.04 0.04 0.04 0.04 0.04]\n",
      " [0.04 0.04 0.04 0.04 0.04]\n",
      " [0.04 0.04 0.04 0.04 0.04]\n",
      " [0.04 0.04 0.04 0.04 0.04]]\n",
      "[[0.02040816 0.02040816 0.02040816 0.02040816 0.02040816 0.02040816\n",
      "  0.02040816]\n",
      " [0.02040816 0.02040816 0.02040816 0.02040816 0.02040816 0.02040816\n",
      "  0.02040816]\n",
      " [0.02040816 0.02040816 0.02040816 0.02040816 0.02040816 0.02040816\n",
      "  0.02040816]\n",
      " [0.02040816 0.02040816 0.02040816 0.02040816 0.02040816 0.02040816\n",
      "  0.02040816]\n",
      " [0.02040816 0.02040816 0.02040816 0.02040816 0.02040816 0.02040816\n",
      "  0.02040816]\n",
      " [0.02040816 0.02040816 0.02040816 0.02040816 0.02040816 0.02040816\n",
      "  0.02040816]\n",
      " [0.02040816 0.02040816 0.02040816 0.02040816 0.02040816 0.02040816\n",
      "  0.02040816]]\n"
     ]
    }
   ],
   "source": [
    "# Creating filters\n",
    "\n",
    "# 3X3\n",
    "filter3 = np.ones((3,3))\n",
    "filter3 = filter3/9\n",
    "\n",
    "# 5X5\n",
    "filter5 = np.ones((5,5))\n",
    "filter5 = filter5/25\n",
    "\n",
    "# 7X7\n",
    "filter7 = np.ones((7,7))\n",
    "filter7 = filter7/49\n",
    "\n",
    "\n",
    "print(filter3)\n",
    "print(filter5)\n",
    "print(filter7)"
   ]
  },
  {
   "cell_type": "code",
   "execution_count": 7,
   "metadata": {},
   "outputs": [
    {
     "data": {
      "text/plain": [
       "(512, 512)"
      ]
     },
     "execution_count": 7,
     "metadata": {},
     "output_type": "execute_result"
    }
   ],
   "source": [
    "noise_img1.shape"
   ]
  },
  {
   "cell_type": "code",
   "execution_count": null,
   "metadata": {},
   "outputs": [],
   "source": [
    "# padding zeroes to images\n",
    "\n",
    "# new_img = np.zeros((noise_img1.shape[0]+filter3.shape[0]-1, noise_img1.shape[1]+filter3.shape[1]-1))\n",
    "\n",
    "a = (filter3.shape[0]-1)//2\n",
    "b = (filter3.shape[1]-1)//2\n",
    "\n",
    "new_img = np.zeros((noise_img1.shape[0]+2*a+2*a, noise_img1.shape[1]+2*b+2*b), dtype=int)\n",
    "\n",
    "\n",
    "for i in range(2*a, noise_img1.shape[0]+2*a):\n",
    "    for j in range(2*b, noise_img1.shape[1]+2*b):\n",
    "        new_img[i, j] = noise_img1[i-filter3.shape[0]+1, j-filter3.shape[1]+1]\n",
    "\n",
    "print(new_img)\n",
    "print(new_img.shape)\n",
    "\n",
    "# a = np.array([[1, 2, 3], [4, 5, 6], [7, 8, 9]])\n",
    "# a[-1, -1]"
   ]
  },
  {
   "cell_type": "code",
   "execution_count": null,
   "metadata": {},
   "outputs": [],
   "source": [
    "new_img1 = np.zeros((5+2*3+2*3, 5+2*3+2*3))\n",
    "\n",
    "print(new_img1)\n",
    "print(new_img1.shape)\n",
    "\n",
    "for i in range(2*3, 5+2*3):\n",
    "    for j in range(2*3, 5+2*3):\n",
    "        print(i,j, i-7+1, j-7+1)"
   ]
  },
  {
   "cell_type": "code",
   "execution_count": 8,
   "metadata": {},
   "outputs": [],
   "source": [
    "# Function to padd zeros\n",
    "def pad_zeros(img_given, filter_given):\n",
    "    a = (filter_given.shape[0]-1)//2\n",
    "    b = (filter_given.shape[1]-1)//2\n",
    "    \n",
    "    new_img = np.zeros((img_given.shape[0]+2*a+2*a, img_given.shape[1]+2*b+2*b), dtype=int)\n",
    "    \n",
    "    for i in range(2*a, img_given.shape[0]+2*a):\n",
    "        for j in range(2*b, img_given.shape[1]+2*b):\n",
    "            new_img[i, j] = img_given[i-filter_given.shape[0]+1, j-filter_given.shape[1]+1]\n",
    "    \n",
    "    new_img = np.array(new_img, dtype='uint8')\n",
    "    return new_img"
   ]
  },
  {
   "cell_type": "code",
   "execution_count": 9,
   "metadata": {},
   "outputs": [
    {
     "name": "stdout",
     "output_type": "stream",
     "text": [
      "[[  0   0   0 ...   0   0   0]\n",
      " [  0   0   0 ...   0   0   0]\n",
      " [  0   0 162 ... 128   0   0]\n",
      " ...\n",
      " [  0   0  44 ... 108   0   0]\n",
      " [  0   0   0 ...   0   0   0]\n",
      " [  0   0   0 ...   0   0   0]]\n"
     ]
    }
   ],
   "source": [
    "new_img1 = pad_zeros(noise_img1, filter3)\n",
    "new_img2 = pad_zeros(noise_img2, filter3)\n",
    "new_img3 = pad_zeros(noise_img3, filter3)\n",
    "new_img4 = pad_zeros(noise_img4, filter3)\n",
    "new_img5 = pad_zeros(noise_img5, filter3)\n",
    "new_img6 = pad_zeros(noise_img6, filter3)\n",
    "new_img7 = pad_zeros(noise_img7, filter3)\n",
    "new_img8 = pad_zeros(noise_img8, filter3)\n",
    "new_img9 = pad_zeros(noise_img9, filter3)\n",
    "new_img10 = pad_zeros(noise_img10, filter3)\n",
    "\n",
    "print(new_img2)"
   ]
  },
  {
   "cell_type": "code",
   "execution_count": 10,
   "metadata": {},
   "outputs": [
    {
     "name": "stdout",
     "output_type": "stream",
     "text": [
      "[[162 162 162 ... 168 170 171]\n",
      " [162   0 162 ... 168 170 171]\n",
      " [162 162 162 ... 168 170 171]\n",
      " ...\n",
      " [ 48  48  56 ...   0  78   0]\n",
      " [ 54  54  48 ...  83 255  89]\n",
      " [ 46  46  50 ...  89  93 100]]\n"
     ]
    }
   ],
   "source": [
    "print(new_img2[2:511, 2:511])"
   ]
  },
  {
   "cell_type": "code",
   "execution_count": 11,
   "metadata": {},
   "outputs": [
    {
     "name": "stdout",
     "output_type": "stream",
     "text": [
      "[[ 18  36  36 ...  49  31  14]\n",
      " [ 36  54  72 ... 109  73  28]\n",
      " [ 54 100 136 ... 158 104  42]\n",
      " ...\n",
      " [ 60  72  89 ... 100  67  34]\n",
      " [ 32  40  52 ...  68  46  24]\n",
      " [  4   8  14 ...  34  23  12]]\n"
     ]
    }
   ],
   "source": [
    "# output_img1 = np.zeros((noise_img1.shape[0]+filter3.shape[0]-1, noise_img1.shape[1]+filter3.shape[1]-1), dtype=int)\n",
    "\n",
    "# for i in range(noise_img1.shape[0]+filter3.shape[0]-1):\n",
    "#     for j in range(noise_img1.shape[1]+filter3.shape[1]-1):\n",
    "#         output_img1[i, j]=(new_img1[i, j]*filter3[0, 0] + new_img1[i, j+1]*filter3[0, 1] + new_img1[i, j+2]*filter3[0, 2]) \\\n",
    "#         + (new_img1[i+1, j]*filter3[1, 0] + new_img1[i+1, j+1]*filter3[1, 1] + new_img1[i+1, j+2]*filter3[1, 2]) \\\n",
    "#         + (new_img1[i+2, j]*filter3[2, 0] + new_img1[i+2, j+1]*filter3[2, 1] + new_img1[i+2, j+2]*filter3[2, 2])\n",
    "\n",
    "# print(output_img1)\n",
    "\n",
    "output_img1 = np.zeros((noise_img1.shape[0]+filter3.shape[0]-1, noise_img1.shape[1]+filter3.shape[1]-1), dtype=int)\n",
    "\n",
    "for i in range(noise_img1.shape[0]+filter3.shape[0]-1):\n",
    "    for j in range(noise_img1.shape[1]+filter3.shape[1]-1):\n",
    "        \n",
    "        for k in range(0, 2*1+1):\n",
    "            for l in range(0, 2*1+1):\n",
    "                output_img1[i, j] += new_img1[i+k, j+l]*filter3[k, l]\n",
    "\n",
    "print(output_img1)"
   ]
  },
  {
   "cell_type": "code",
   "execution_count": 12,
   "metadata": {},
   "outputs": [],
   "source": [
    "# print(output_img1.shape)\n",
    "output_img1 = np.array(output_img1, dtype='uint8')\n",
    "\n",
    "cv2.imshow(\"Original1\", noise_img1)\n",
    "cv2.imshow(\"Original\", output_img1)\n",
    "cv2.waitKey(0)\n",
    "cv2.destroyAllWindows()"
   ]
  },
  {
   "cell_type": "code",
   "execution_count": 13,
   "metadata": {},
   "outputs": [],
   "source": [
    "def avg_filtering(noisy_img, padded_img, filter_gi):\n",
    "    output_img1 = np.zeros((noisy_img.shape[0]+filter_gi.shape[0]-1, noisy_img.shape[1]+filter_gi.shape[1]-1), dtype=int)\n",
    "    a = (filter_gi.shape[0]-1)//2\n",
    "    b = (filter_gi.shape[1]-1)//2\n",
    "    for i in range(noisy_img.shape[0]+filter_gi.shape[0]-1):\n",
    "        for j in range(noisy_img.shape[1]+filter_gi.shape[1]-1):\n",
    "            for k in range(0, 2*a+1):\n",
    "                for l in range(0, 2*b+1):\n",
    "                    output_img1[i, j] += padded_img[i+k, j+l]*filter_gi[k, l]\n",
    "#             output_img1[i, j] = (padded_img[i, j]*filter_gi[0, 0] + padded_img[i, j+1]*filter_gi[0, 1] + padded_img[i, j+2]*filter_gi[0, 2]) \\\n",
    "#             + (padded_img[i+1, j]*filter_gi[1, 0] + padded_img[i+1, j+1]*filter_gi[1, 1] + padded_img[i+1, j+2]*filter_gi[1, 2]) \\\n",
    "#             + (padded_img[i+2, j]*filter_gi[2, 0] + padded_img[i+2, j+1]*filter_gi[2, 1] + padded_img[i+2, j+2]*filter_gi[2, 2])\n",
    "    \n",
    "    output_img1 = np.array(output_img1, dtype='uint8')\n",
    "    \n",
    "    return output_img1\n",
    "    "
   ]
  },
  {
   "cell_type": "code",
   "execution_count": 14,
   "metadata": {},
   "outputs": [],
   "source": [
    "noisy_images = [noise_img1, noise_img2, noise_img3, noise_img4, noise_img5, noise_img6, noise_img7, noise_img8, noise_img9, noise_img10]\n",
    "padded_images = [new_img1, new_img2, new_img3, new_img4, new_img5, new_img6, new_img7, new_img8, new_img9, new_img10]\n",
    "\n",
    "output_images = []\n",
    "\n",
    "for i in range(len(noisy_images)):\n",
    "    output_images.append(avg_filtering(noisy_images[i], padded_images[i], filter3))"
   ]
  },
  {
   "cell_type": "code",
   "execution_count": 15,
   "metadata": {},
   "outputs": [],
   "source": [
    "for i in range(len(output_images)):\n",
    "    cv2.imshow(\"Original1\", noisy_images[i])\n",
    "    cv2.imshow(\"Original\", output_images[i])\n",
    "    title = \"3x3 filter noisy image \"+str(i+1) + \" .jpg\"\n",
    "    cv2.imwrite(title, output_images[i])\n",
    "    cv2.waitKey(0)\n",
    "    cv2.destroyAllWindows()"
   ]
  },
  {
   "cell_type": "code",
   "execution_count": null,
   "metadata": {},
   "outputs": [],
   "source": [
    "# 3x3 average filter done"
   ]
  },
  {
   "cell_type": "code",
   "execution_count": 14,
   "metadata": {},
   "outputs": [
    {
     "name": "stdout",
     "output_type": "stream",
     "text": [
      "[[0 0 0 ... 0 0 0]\n",
      " [0 0 0 ... 0 0 0]\n",
      " [0 0 0 ... 0 0 0]\n",
      " ...\n",
      " [0 0 0 ... 0 0 0]\n",
      " [0 0 0 ... 0 0 0]\n",
      " [0 0 0 ... 0 0 0]]\n",
      "(520, 520)\n"
     ]
    }
   ],
   "source": [
    "a = (filter5.shape[0]-1)//2\n",
    "b = (filter5.shape[1]-1)//2\n",
    "\n",
    "new_img51 = np.zeros((noise_img1.shape[0]+2*a+2*a, noise_img1.shape[1]+2*b+2*b), dtype=int)\n",
    "\n",
    "\n",
    "for i in range(2*a, noise_img1.shape[0]+2*a):\n",
    "    for j in range(2*b, noise_img1.shape[1]+2*b):\n",
    "#         print(i, j, i-7+1, j-7+1)\n",
    "        new_img51[i, j] = noise_img1[i-filter5.shape[0]+1, j-filter5.shape[1]+1]\n",
    "\n",
    "print(new_img51)\n",
    "print(new_img51.shape)"
   ]
  },
  {
   "cell_type": "code",
   "execution_count": 15,
   "metadata": {},
   "outputs": [
    {
     "name": "stdout",
     "output_type": "stream",
     "text": [
      "[[ 6 12 18 ... 17 11  5]\n",
      " [12 24 36 ... 38 22 10]\n",
      " [18 36 54 ... 55 33 15]\n",
      " ...\n",
      " [ 3 15 21 ... 31 19 11]\n",
      " [ 2 13 17 ... 20 12  8]\n",
      " [ 1  2  4 ... 12  8  4]]\n"
     ]
    }
   ],
   "source": [
    "output_img51 = np.zeros((noise_img1.shape[0]+filter5.shape[0]-1, noise_img1.shape[1]+filter5.shape[1]-1), dtype=int)\n",
    "\n",
    "for i in range(noise_img1.shape[0]+filter5.shape[0]-1):\n",
    "    for j in range(noise_img1.shape[1]+filter5.shape[1]-1):\n",
    "        \n",
    "        for k in range(0, 2*2+1):\n",
    "            for l in range(0, 2*2+1):\n",
    "                output_img51[i, j] += new_img51[i+k, j+l]*filter5[k, l]\n",
    "\n",
    "print(output_img51)"
   ]
  },
  {
   "cell_type": "code",
   "execution_count": 16,
   "metadata": {},
   "outputs": [],
   "source": [
    "# print(output_img1.shape)\n",
    "output_img51 = np.array(output_img51, dtype='uint8')\n",
    "\n",
    "cv2.imshow(\"Original1\", noise_img1)\n",
    "cv2.imshow(\"Original\", output_img51)\n",
    "cv2.waitKey(0)\n",
    "cv2.destroyAllWindows()"
   ]
  },
  {
   "cell_type": "code",
   "execution_count": null,
   "metadata": {},
   "outputs": [],
   "source": []
  },
  {
   "cell_type": "code",
   "execution_count": 16,
   "metadata": {},
   "outputs": [
    {
     "ename": "KeyboardInterrupt",
     "evalue": "",
     "output_type": "error",
     "traceback": [
      "\u001b[1;31m---------------------------------------------------------------------------\u001b[0m",
      "\u001b[1;31mKeyboardInterrupt\u001b[0m                         Traceback (most recent call last)",
      "\u001b[1;32m<ipython-input-16-38b9dd4da069>\u001b[0m in \u001b[0;36m<module>\u001b[1;34m\u001b[0m\n\u001b[0;32m     48\u001b[0m \u001b[1;33m\u001b[0m\u001b[0m\n\u001b[0;32m     49\u001b[0m \u001b[1;32mfor\u001b[0m \u001b[0mi\u001b[0m \u001b[1;32min\u001b[0m \u001b[0mrange\u001b[0m\u001b[1;33m(\u001b[0m\u001b[0mlen\u001b[0m\u001b[1;33m(\u001b[0m\u001b[0mnoisy_images\u001b[0m\u001b[1;33m)\u001b[0m\u001b[1;33m)\u001b[0m\u001b[1;33m:\u001b[0m\u001b[1;33m\u001b[0m\u001b[1;33m\u001b[0m\u001b[0m\n\u001b[1;32m---> 50\u001b[1;33m     \u001b[0moutput_images7\u001b[0m\u001b[1;33m.\u001b[0m\u001b[0mappend\u001b[0m\u001b[1;33m(\u001b[0m\u001b[0mavg_filtering\u001b[0m\u001b[1;33m(\u001b[0m\u001b[0mnoisy_images\u001b[0m\u001b[1;33m[\u001b[0m\u001b[0mi\u001b[0m\u001b[1;33m]\u001b[0m\u001b[1;33m,\u001b[0m \u001b[0mpadded_images7\u001b[0m\u001b[1;33m[\u001b[0m\u001b[0mi\u001b[0m\u001b[1;33m]\u001b[0m\u001b[1;33m,\u001b[0m \u001b[0mfilter7\u001b[0m\u001b[1;33m)\u001b[0m\u001b[1;33m)\u001b[0m\u001b[1;33m\u001b[0m\u001b[1;33m\u001b[0m\u001b[0m\n\u001b[0m",
      "\u001b[1;32m<ipython-input-16-38b9dd4da069>\u001b[0m in \u001b[0;36mavg_filtering\u001b[1;34m(noisy_img, padded_img, filter_gi)\u001b[0m\n\u001b[0;32m     35\u001b[0m             \u001b[1;32mfor\u001b[0m \u001b[0mk\u001b[0m \u001b[1;32min\u001b[0m \u001b[0mrange\u001b[0m\u001b[1;33m(\u001b[0m\u001b[1;36m0\u001b[0m\u001b[1;33m,\u001b[0m \u001b[1;36m2\u001b[0m\u001b[1;33m*\u001b[0m\u001b[0ma\u001b[0m\u001b[1;33m+\u001b[0m\u001b[1;36m1\u001b[0m\u001b[1;33m)\u001b[0m\u001b[1;33m:\u001b[0m\u001b[1;33m\u001b[0m\u001b[1;33m\u001b[0m\u001b[0m\n\u001b[0;32m     36\u001b[0m                 \u001b[1;32mfor\u001b[0m \u001b[0ml\u001b[0m \u001b[1;32min\u001b[0m \u001b[0mrange\u001b[0m\u001b[1;33m(\u001b[0m\u001b[1;36m0\u001b[0m\u001b[1;33m,\u001b[0m \u001b[1;36m2\u001b[0m\u001b[1;33m*\u001b[0m\u001b[0mb\u001b[0m\u001b[1;33m+\u001b[0m\u001b[1;36m1\u001b[0m\u001b[1;33m)\u001b[0m\u001b[1;33m:\u001b[0m\u001b[1;33m\u001b[0m\u001b[1;33m\u001b[0m\u001b[0m\n\u001b[1;32m---> 37\u001b[1;33m                     \u001b[0moutput_img1\u001b[0m\u001b[1;33m[\u001b[0m\u001b[0mi\u001b[0m\u001b[1;33m,\u001b[0m \u001b[0mj\u001b[0m\u001b[1;33m]\u001b[0m \u001b[1;33m+=\u001b[0m \u001b[0mpadded_img\u001b[0m\u001b[1;33m[\u001b[0m\u001b[0mi\u001b[0m\u001b[1;33m+\u001b[0m\u001b[0mk\u001b[0m\u001b[1;33m,\u001b[0m \u001b[0mj\u001b[0m\u001b[1;33m+\u001b[0m\u001b[0ml\u001b[0m\u001b[1;33m]\u001b[0m\u001b[1;33m*\u001b[0m\u001b[0mfilter_gi\u001b[0m\u001b[1;33m[\u001b[0m\u001b[0mk\u001b[0m\u001b[1;33m,\u001b[0m \u001b[0ml\u001b[0m\u001b[1;33m]\u001b[0m\u001b[1;33m\u001b[0m\u001b[1;33m\u001b[0m\u001b[0m\n\u001b[0m\u001b[0;32m     38\u001b[0m \u001b[1;33m\u001b[0m\u001b[0m\n\u001b[0;32m     39\u001b[0m     \u001b[0moutput_img1\u001b[0m \u001b[1;33m=\u001b[0m \u001b[0mnp\u001b[0m\u001b[1;33m.\u001b[0m\u001b[0marray\u001b[0m\u001b[1;33m(\u001b[0m\u001b[0moutput_img1\u001b[0m\u001b[1;33m,\u001b[0m \u001b[0mdtype\u001b[0m\u001b[1;33m=\u001b[0m\u001b[1;34m'uint8'\u001b[0m\u001b[1;33m)\u001b[0m\u001b[1;33m\u001b[0m\u001b[1;33m\u001b[0m\u001b[0m\n",
      "\u001b[1;31mKeyboardInterrupt\u001b[0m: "
     ]
    }
   ],
   "source": [
    "# FILTER 7X7\n",
    "def pad_zeros(img_given, filter_given):\n",
    "    a = (filter_given.shape[0]-1)//2\n",
    "    b = (filter_given.shape[1]-1)//2\n",
    "    \n",
    "    new_img = np.zeros((img_given.shape[0]+2*a+2*a, img_given.shape[1]+2*b+2*b), dtype=int)\n",
    "    \n",
    "    for i in range(2*a, img_given.shape[0]+2*a):\n",
    "        for j in range(2*b, img_given.shape[1]+2*b):\n",
    "            new_img[i, j] = img_given[i-filter_given.shape[0]+1, j-filter_given.shape[1]+1]\n",
    "    \n",
    "    new_img = np.array(new_img, dtype='uint8')\n",
    "    return new_img\n",
    "\n",
    "new_img7_1 = pad_zeros(noise_img1, filter7)\n",
    "new_img7_2 = pad_zeros(noise_img2, filter7)\n",
    "new_img7_3 = pad_zeros(noise_img3, filter7)\n",
    "new_img7_4 = pad_zeros(noise_img4, filter7)\n",
    "new_img7_5 = pad_zeros(noise_img5, filter7)\n",
    "new_img7_6 = pad_zeros(noise_img6, filter7)\n",
    "new_img7_7 = pad_zeros(noise_img7, filter7)\n",
    "new_img7_8 = pad_zeros(noise_img8, filter7)\n",
    "new_img7_9 = pad_zeros(noise_img9, filter7)\n",
    "new_img7_10 = pad_zeros(noise_img10, filter7)\n",
    "\n",
    "# print(new_img7_1)\n",
    "# print(new_img7_1.shape)\n",
    "\n",
    "def avg_filtering(noisy_img, padded_img, filter_gi):\n",
    "    output_img1 = np.zeros((noisy_img.shape[0]+filter_gi.shape[0]-1, noisy_img.shape[1]+filter_gi.shape[1]-1), dtype=int)\n",
    "    a = (filter_gi.shape[0]-1)//2\n",
    "    b = (filter_gi.shape[1]-1)//2\n",
    "    for i in range(noisy_img.shape[0]+filter_gi.shape[0]-1):\n",
    "        for j in range(noisy_img.shape[1]+filter_gi.shape[1]-1):\n",
    "            for k in range(0, 2*a+1):\n",
    "                for l in range(0, 2*b+1):\n",
    "                    output_img1[i, j] += padded_img[i+k, j+l]*filter_gi[k, l]\n",
    "            \n",
    "    output_img1 = np.array(output_img1, dtype='uint8')\n",
    "    \n",
    "    return output_img1\n",
    "    \n",
    "    \n",
    "noisy_images = [noise_img1, noise_img2, noise_img3, noise_img4, noise_img5, noise_img6, noise_img7, noise_img8, noise_img9, noise_img10]\n",
    "padded_images7 = [new_img7_1, new_img7_2, new_img7_3, new_img7_4, new_img7_5, new_img7_6, new_img7_7, new_img7_8, new_img7_9, new_img7_10]\n",
    "\n",
    "output_images7 = []\n",
    "\n",
    "for i in range(len(noisy_images)):\n",
    "    output_images7.append(avg_filtering(noisy_images[i], padded_images7[i], filter7))\n"
   ]
  },
  {
   "cell_type": "code",
   "execution_count": null,
   "metadata": {},
   "outputs": [],
   "source": [
    "for i in range(len(output_images7)):\n",
    "    cv2.imshow(\"Original1\", noisy_images[i])\n",
    "    cv2.imshow(\"Original\", output_images7[i])\n",
    "    cv2.waitKey(0)\n",
    "    cv2.destroyAllWindows()"
   ]
  },
  {
   "cell_type": "markdown",
   "metadata": {},
   "source": [
    "# Median Filtering"
   ]
  },
  {
   "cell_type": "code",
   "execution_count": null,
   "metadata": {},
   "outputs": [],
   "source": [
    "output_img3_1 = np.zeros((noise_img1.shape[0], noise_img1.shape[1]), dtype=int)\n",
    "\n",
    "a = (filter3.shape[0]-1)//2\n",
    "b = (filter3.shape[1]-1)//2\n",
    "\n",
    "for i in range(noise_img1.shape[0]):\n",
    "    for j in range(noise_img1.shape[1]):\n",
    "        \n",
    "        list_neigh = []\n",
    "        if(i==0 and j==0):\n",
    "            list_neigh = [noise_img1[i, j], noise_img1[i, j+1], noise_img1[i+1, j], noise_img1[i+1, j+1]]\n",
    "            list_neigh = sorted(list_neigh)\n",
    "            output_img3_1[i, j] = int(statistics.median(list_neigh))\n",
    "        elif(i==0 and j==noise_img1.shape[1]-1):\n",
    "            list_neigh = [noise_img1[i, j], noise_img1[i-1, j], noise_img1[i+1, j], noise_img1[i+1, j-1]]\n",
    "            list_neigh = sorted(list_neigh)\n",
    "            output_img3_1[i, j] = int(statistics.median(list_neigh))\n",
    "        elif(i==noise_img1.shape[0]-1 and j==0):\n",
    "            list_neigh = [noise_img1[i, j], noise_img1[i, j+1], noise_img1[i-1, j], noise_img1[i-1, j+1]]\n",
    "            list_neigh = sorted(list_neigh)\n",
    "            output_img3_1[i, j] = int(statistics.median(list_neigh))\n",
    "        elif(i==noise_img1.shape[0]-1 and j==noise_img1.shape[1]-1):\n",
    "            list_neigh = [noise_img1[i, j], noise_img1[i, j-1], noise_img1[i-1, j], noise_img1[i-1, j-1]]\n",
    "            list_neigh = sorted(list_neigh)\n",
    "            output_img3_1[i, j] = int(statistics.median(list_neigh))\n",
    "        elif(i==0 and j!=0):\n",
    "            \n",
    "            \n",
    "print(output_img1)"
   ]
  },
  {
   "cell_type": "code",
   "execution_count": 25,
   "metadata": {},
   "outputs": [],
   "source": [
    "# Function to padd zeros\n",
    "def pad_zeros(img_given, filter_given):\n",
    "    a = (filter_given.shape[0]-1)//2\n",
    "    b = (filter_given.shape[1]-1)//2\n",
    "    \n",
    "    new_img = np.zeros((img_given.shape[0]+2*a+2*a, img_given.shape[1]+2*b+2*b), dtype=int)\n",
    "    \n",
    "    for i in range(2*a, img_given.shape[0]+2*a):\n",
    "        for j in range(2*b, img_given.shape[1]+2*b):\n",
    "            new_img[i, j] = img_given[i-filter_given.shape[0]+1, j-filter_given.shape[1]+1]\n",
    "    \n",
    "    new_img = np.array(new_img, dtype='uint8')\n",
    "    return new_img"
   ]
  },
  {
   "cell_type": "code",
   "execution_count": 26,
   "metadata": {},
   "outputs": [
    {
     "name": "stdout",
     "output_type": "stream",
     "text": [
      "[[  0   0   0 ...   0   0   0]\n",
      " [  0   0   0 ...   0   0   0]\n",
      " [  0   0 162 ... 128   0   0]\n",
      " ...\n",
      " [  0   0  44 ... 108   0   0]\n",
      " [  0   0   0 ...   0   0   0]\n",
      " [  0   0   0 ...   0   0   0]]\n"
     ]
    }
   ],
   "source": [
    "new_img1 = pad_zeros(noise_img1, filter3)\n",
    "new_img2 = pad_zeros(noise_img2, filter3)\n",
    "new_img3 = pad_zeros(noise_img3, filter3)\n",
    "new_img4 = pad_zeros(noise_img4, filter3)\n",
    "new_img5 = pad_zeros(noise_img5, filter3)\n",
    "new_img6 = pad_zeros(noise_img6, filter3)\n",
    "new_img7 = pad_zeros(noise_img7, filter3)\n",
    "new_img8 = pad_zeros(noise_img8, filter3)\n",
    "new_img9 = pad_zeros(noise_img9, filter3)\n",
    "new_img10 = pad_zeros(noise_img10, filter3)\n",
    "\n",
    "print(new_img2)"
   ]
  },
  {
   "cell_type": "code",
   "execution_count": 27,
   "metadata": {},
   "outputs": [],
   "source": [
    "def median_filtering(noisy_img, padded_img, filter_gi):\n",
    "    output_img1 = np.zeros((noisy_img.shape[0]+filter_gi.shape[0]-1, noisy_img.shape[1]+filter_gi.shape[1]-1), dtype=int)\n",
    "    a = (filter_gi.shape[0]-1)//2\n",
    "    b = (filter_gi.shape[1]-1)//2\n",
    "    \n",
    "    for i in range(noisy_img.shape[0]+filter_gi.shape[0]-1):\n",
    "        for j in range(noisy_img.shape[1]+filter_gi.shape[1]-1):\n",
    "            \n",
    "            list_neigh = []\n",
    "            for k in range(0, 2*a+1):\n",
    "                for l in range(0, 2*b+1):\n",
    "                    list_neigh.append(padded_img[i+k, j+l])\n",
    "                    # output_img1[i, j] += padded_img[i+k, j+l]*filter_gi[k, l]\n",
    "            \n",
    "            list_neigh = sorted(list_neigh)\n",
    "            output_img1[i, j] = int(statistics.median(list_neigh))\n",
    "\n",
    "    output_img1 = np.array(output_img1, dtype='uint8')\n",
    "    \n",
    "    return output_img1\n",
    "    "
   ]
  },
  {
   "cell_type": "code",
   "execution_count": 29,
   "metadata": {},
   "outputs": [],
   "source": [
    "out1 = median_filtering(noise_img1, new_img1, filter3)"
   ]
  },
  {
   "cell_type": "code",
   "execution_count": 30,
   "metadata": {},
   "outputs": [],
   "source": [
    "cv2.imshow(\"Original1\", noise_img1)\n",
    "cv2.imshow(\"Original\", out1)\n",
    "cv2.waitKey(0)\n",
    "cv2.destroyAllWindows()"
   ]
  },
  {
   "cell_type": "code",
   "execution_count": 33,
   "metadata": {},
   "outputs": [],
   "source": [
    "noisy_images = [noise_img1, noise_img2, noise_img3, noise_img4, noise_img5, noise_img6, noise_img7, noise_img8, noise_img9, noise_img10]\n",
    "padded_images = [new_img1, new_img2, new_img3, new_img4, new_img5, new_img6, new_img7, new_img8, new_img9, new_img10]\n",
    "\n",
    "output_images = []\n",
    "\n",
    "for i in range(len(noisy_images)):\n",
    "    output_images.append(median_filtering(noisy_images[i], padded_images[i], filter3))"
   ]
  },
  {
   "cell_type": "code",
   "execution_count": 34,
   "metadata": {},
   "outputs": [],
   "source": [
    "for i in range(len(output_images)):\n",
    "    cv2.imshow(\"Original1\", noisy_images[i])\n",
    "    cv2.imshow(\"Original\", output_images[i])\n",
    "#     title = \"3x3 median filter \"+str(i+1) + \" .jpg\"\n",
    "#     cv2.imwrite(title, output_images[i])\n",
    "    cv2.waitKey(0)\n",
    "    cv2.destroyAllWindows()"
   ]
  },
  {
   "cell_type": "code",
   "execution_count": 4,
   "metadata": {},
   "outputs": [
    {
     "data": {
      "text/plain": [
       "array([[0, 0, 0, 0, 0],\n",
       "       [0, 0, 0, 0, 0],\n",
       "       [0, 0, 0, 0, 0],\n",
       "       [0, 0, 0, 0, 0],\n",
       "       [0, 0, 0, 0, 0]])"
      ]
     },
     "execution_count": 4,
     "metadata": {},
     "output_type": "execute_result"
    }
   ],
   "source": [
    "a = np.array([[1, 2, 3], [4, 5, 6], [7, 8, 9]])\n",
    "\n",
    "new_a = np.zeros((a.shape[0]+2*1, a.shape[1]+2*1), dtype=int)\n",
    "\n",
    "new_a"
   ]
  },
  {
   "cell_type": "code",
   "execution_count": null,
   "metadata": {},
   "outputs": [],
   "source": []
  }
 ],
 "metadata": {
  "kernelspec": {
   "display_name": "Python 3",
   "language": "python",
   "name": "python3"
  },
  "language_info": {
   "codemirror_mode": {
    "name": "ipython",
    "version": 3
   },
   "file_extension": ".py",
   "mimetype": "text/x-python",
   "name": "python",
   "nbconvert_exporter": "python",
   "pygments_lexer": "ipython3",
   "version": "3.7.4"
  }
 },
 "nbformat": 4,
 "nbformat_minor": 2
}
