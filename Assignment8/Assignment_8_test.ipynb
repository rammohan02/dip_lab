{
 "cells": [
  {
   "cell_type": "code",
   "execution_count": 24,
   "metadata": {},
   "outputs": [],
   "source": [
    "import cv2\n",
    "import numpy as np\n",
    "from matplotlib import pyplot as plt\n",
    "import math"
   ]
  },
  {
   "cell_type": "code",
   "execution_count": 2,
   "metadata": {},
   "outputs": [
    {
     "name": "stdout",
     "output_type": "stream",
     "text": [
      "[[169 169 168 ... 175 162 138]\n",
      " [169 169 168 ... 175 162 138]\n",
      " [169 169 168 ... 175 162 138]\n",
      " ...\n",
      " [ 53  53  59 ... 115 112 114]\n",
      " [ 53  53  64 ... 117 118 122]\n",
      " [ 53  53  64 ... 117 118 122]]\n"
     ]
    }
   ],
   "source": [
    "img = cv2.imread(\"Lenna.png\", 0)\n",
    "print(img)"
   ]
  },
  {
   "cell_type": "code",
   "execution_count": 3,
   "metadata": {},
   "outputs": [],
   "source": [
    "a = [[1/16, 2/16, 1/16], [2/16, 4/16, 2/16], [1/16, 2/16, 1/16]]"
   ]
  },
  {
   "cell_type": "code",
   "execution_count": 4,
   "metadata": {},
   "outputs": [],
   "source": [
    "def fft(f):\n",
    "    M = len(f)\n",
    "    \n",
    "    if(M<=1):\n",
    "        return f\n",
    "    \n",
    "    even = f[0::2]\n",
    "    odd = f[1::2]\n",
    "    \n",
    "    G = fft(even)\n",
    "    H = fft(odd)\n",
    "    \n",
    "    #print(G, H, M)\n",
    "    \n",
    "    T = []\n",
    "    #print('H: ', H)\n",
    "    for i in range(M//2):\n",
    "        #print(i)\n",
    "        T.append((np.exp((-2j)*np.pi*i/M))*H[i])\n",
    "    \n",
    "    F1 = []\n",
    "    F2 = []\n",
    "    for i in range(M//2):\n",
    "        F1.append(G[i] + T[i])\n",
    "        F2.append(G[i] - T[i])\n",
    "    \n",
    "    F = F1+F2\n",
    "    #print(F)\n",
    "    return F"
   ]
  },
  {
   "cell_type": "code",
   "execution_count": 5,
   "metadata": {},
   "outputs": [
    {
     "name": "stdout",
     "output_type": "stream",
     "text": [
      "[(6+0j), (2+0j)]\n"
     ]
    }
   ],
   "source": [
    "a = [1, 2, 3]\n",
    "b = fft(a)\n",
    "print(b)"
   ]
  },
  {
   "cell_type": "code",
   "execution_count": 6,
   "metadata": {},
   "outputs": [],
   "source": [
    "def ifft(f):\n",
    "    M = len(f)\n",
    "    \n",
    "    if(M<=1):\n",
    "        return f\n",
    "    \n",
    "    even = f[0::2]\n",
    "    odd = f[1::2]\n",
    "    \n",
    "    G = ifft(even)\n",
    "    H = ifft(odd)\n",
    "    \n",
    "    T = []\n",
    "    for i in range(M//2):\n",
    "        T.append((np.exp((2j)*np.pi*i/M))*H[i])\n",
    "    \n",
    "    F1 = []\n",
    "    F2 = []\n",
    "    for i in range(len(H)):\n",
    "        F1.append(G[i] + T[i])\n",
    "        F2.append(G[i] - T[i])\n",
    "    \n",
    "    F = F1+F2\n",
    "    return F"
   ]
  },
  {
   "cell_type": "code",
   "execution_count": 7,
   "metadata": {},
   "outputs": [
    {
     "name": "stdout",
     "output_type": "stream",
     "text": [
      "[(8+0j), (4+0j)]\n"
     ]
    }
   ],
   "source": [
    "c = ifft(b)\n",
    "print(c)"
   ]
  },
  {
   "cell_type": "code",
   "execution_count": 8,
   "metadata": {},
   "outputs": [
    {
     "name": "stdout",
     "output_type": "stream",
     "text": [
      "[ 6. +0.j        -1.5+0.8660254j -1.5-0.8660254j]\n"
     ]
    }
   ],
   "source": [
    "print(np.fft.fft(a))"
   ]
  },
  {
   "cell_type": "code",
   "execution_count": 13,
   "metadata": {},
   "outputs": [],
   "source": [
    "def dnorm(x, mu, sd):\n",
    "    return 1 / (np.sqrt(2 * np.pi) * sd) * np.e ** (-np.power((x - mu) / sd, 2) / 2)\n"
   ]
  },
  {
   "cell_type": "code",
   "execution_count": 11,
   "metadata": {},
   "outputs": [],
   "source": [
    "def gaussian_kernel(size, sigma=1, verbose=False):\n",
    " \n",
    "    kernel_1D = np.linspace(-(size // 2), size // 2, size)\n",
    "    for i in range(size):\n",
    "        kernel_1D[i] = dnorm(kernel_1D[i], 0, sigma)\n",
    "    kernel_2D = np.outer(kernel_1D.T, kernel_1D.T)\n",
    " \n",
    "    kernel_2D *= 1.0 / kernel_2D.max()\n",
    " \n",
    "    if verbose:\n",
    "        plt.imshow(kernel_2D, interpolation='none',cmap='gray')\n",
    "        plt.title(\"Image\")\n",
    "        plt.show()\n",
    " \n",
    "    return kernel_2D"
   ]
  },
  {
   "cell_type": "code",
   "execution_count": 35,
   "metadata": {},
   "outputs": [
    {
     "data": {
      "image/png": "[encoded data removed]",
      "text/plain": [
       "<Figure size 432x288 with 1 Axes>"
      ]
     },
     "metadata": {
      "needs_background": "light"
     },
     "output_type": "display_data"
    },
    {
     "data": {
      "text/plain": [
       "array([[0.71653131, 0.84648172, 0.71653131],\n",
       "       [0.84648172, 1.        , 0.84648172],\n",
       "       [0.71653131, 0.84648172, 0.71653131]])"
      ]
     },
     "execution_count": 35,
     "metadata": {},
     "output_type": "execute_result"
    }
   ],
   "source": [
    "a = gaussian_kernel(3, math.sqrt(3), True)\n",
    "a"
   ]
  },
  {
   "cell_type": "code",
   "execution_count": 28,
   "metadata": {},
   "outputs": [
    {
     "data": {
      "text/plain": [
       "22.627416997969522"
      ]
     },
     "execution_count": 28,
     "metadata": {},
     "output_type": "execute_result"
    }
   ],
   "source": [
    "sigma=math.sqrt(512)"
   ]
  }
 ],
 "metadata": {
  "kernelspec": {
   "display_name": "Python 3",
   "language": "python",
   "name": "python3"
  },
  "language_info": {
   "codemirror_mode": {
    "name": "ipython",
    "version": 3
   },
   "file_extension": ".py",
   "mimetype": "text/x-python",
   "name": "python",
   "nbconvert_exporter": "python",
   "pygments_lexer": "ipython3",
   "version": "3.7.4"
  }
 },
 "nbformat": 4,
 "nbformat_minor": 2
}
