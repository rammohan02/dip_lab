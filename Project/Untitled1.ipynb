{
 "cells": [
  {
   "cell_type": "code",
   "execution_count": 1,
   "metadata": {},
   "outputs": [],
   "source": [
    "import numpy as np\n",
    "import cv2\n",
    "from PIL import Image\n",
    "import pytesseract as tess"
   ]
  },
  {
   "cell_type": "code",
   "execution_count": 2,
   "metadata": {},
   "outputs": [],
   "source": [
    "def clean2_plate(plate):\n",
    "    gray_img = cv2.cvtColor(plate, cv2.COLOR_BGR2GRAY)\n",
    "\n",
    "    _, thresh = cv2.threshold(gray_img, 110, 255, cv2.THRESH_BINARY)\n",
    "    if cv2.waitKey(0) & 0xff == ord('q'):\n",
    "        pass\n",
    "    num_contours,hierarchy = cv2.findContours(thresh.copy(),cv2.RETR_EXTERNAL, cv2.CHAIN_APPROX_NONE)\n",
    "\n",
    "    if num_contours:\n",
    "        contour_area = [cv2.contourArea(c) for c in num_contours]\n",
    "        max_cntr_index = np.argmax(contour_area)\n",
    "\n",
    "        max_cnt = num_contours[max_cntr_index]\n",
    "        max_cntArea = contour_area[max_cntr_index]\n",
    "        x,y,w,h = cv2.boundingRect(max_cnt)\n",
    "\n",
    "        if not ratioCheck(max_cntArea,w,h):\n",
    "            return plate,None\n",
    "\n",
    "        final_img = thresh[y:y+h, x:x+w]\n",
    "        return final_img,[x,y,w,h]\n",
    "\n",
    "    else:\n",
    "        return plate,None"
   ]
  },
  {
   "cell_type": "code",
   "execution_count": 3,
   "metadata": {},
   "outputs": [],
   "source": [
    "def ratioCheck(area, width, height):\n",
    "    ratio = float(width) / float(height)\n",
    "    if ratio < 1:\n",
    "        ratio = 1 / ratio\n",
    "    if (area < 1063.62 or area > 73862.5) or (ratio < 3 or ratio > 6):\n",
    "        return False\n",
    "    return True"
   ]
  },
  {
   "cell_type": "code",
   "execution_count": 4,
   "metadata": {},
   "outputs": [],
   "source": [
    "def isMaxWhite(plate):\n",
    "    avg = np.mean(plate)\n",
    "    if(avg>=115):\n",
    "        return True\n",
    "    else:\n",
    "        return False"
   ]
  },
  {
   "cell_type": "code",
   "execution_count": 5,
   "metadata": {},
   "outputs": [],
   "source": [
    "def ratio_and_rotation(rect):\n",
    "    (x, y), (width, height), rect_angle = rect\n",
    "    \n",
    "    if(width>height):\n",
    "        angle = -rect_angle\n",
    "    else:\n",
    "        angle = 90 + rect_angle\n",
    "\n",
    "    if angle>15:\n",
    "        return False\n",
    "\n",
    "    if height == 0 or width == 0:\n",
    "        return False\n",
    "\n",
    "    area = height*width\n",
    "    if not ratioCheck(area,width,height):\n",
    "        return False\n",
    "    else:\n",
    "        return True"
   ]
  },
  {
   "cell_type": "code",
   "execution_count": 6,
   "metadata": {},
   "outputs": [
    {
     "name": "stdout",
     "output_type": "stream",
     "text": [
      "Number  input image...\n",
      "Number  identified number plate...\n",
      "Number  identified number plate...\n"
     ]
    }
   ],
   "source": [
    "img = cv2.imread(\"test.jpg\")\n",
    "print(\"Number  input image...\",)\n",
    "cv2.imshow(\"input\",img)\n",
    "\n",
    "if cv2.waitKey(0) & 0xff == ord('q'):\n",
    "    pass\n",
    "img2 = cv2.GaussianBlur(img, (3,3), 0)\n",
    "img2 = cv2.cvtColor(img2, cv2.COLOR_BGR2GRAY)\n",
    "\n",
    "img2 = cv2.Sobel(img2,cv2.CV_8U,1,0,ksize=3)\t\n",
    "_,img2 = cv2.threshold(img2,0,255,cv2.THRESH_BINARY+cv2.THRESH_OTSU)\n",
    "\n",
    "element = cv2.getStructuringElement(shape=cv2.MORPH_RECT, ksize=(17, 3))\n",
    "morph_img_threshold = img2.copy()\n",
    "cv2.morphologyEx(src=img2, op=cv2.MORPH_CLOSE, kernel=element, dst=morph_img_threshold)\n",
    "num_contours, hierarchy= cv2.findContours(morph_img_threshold,mode=cv2.RETR_EXTERNAL,method=cv2.CHAIN_APPROX_NONE)\n",
    "cv2.drawContours(img2, num_contours, -1, (0,255,0), 1)\n",
    "\n",
    "\n",
    "for i,cnt in enumerate(num_contours):\n",
    "\n",
    "    min_rect = cv2.minAreaRect(cnt)\n",
    "\n",
    "    if ratio_and_rotation(min_rect):\n",
    "        x,y,w,h = cv2.boundingRect(cnt)\n",
    "        plate_img = img[y:y+h,x:x+w]\n",
    "        print(\"Number  identified number plate...\")\n",
    "        cv2.imshow(\"num plate image\",plate_img)\n",
    "        if cv2.waitKey(0) & 0xff == ord('q'):\n",
    "            pass\n",
    "\n",
    "        if(isMaxWhite(plate_img)):\n",
    "            clean_plate, rect = clean2_plate(plate_img)\n",
    "            if rect:\n",
    "                fg=0\n",
    "                x1,y1,w1,h1 = rect\n",
    "                x,y,w,h = x+x1,y+y1,w1,h1\n",
    "                plate_im = Image.fromarray(clean_plate)\n",
    "                text = tess.image_to_string(plate_im, lang='eng')\n",
    "                print(\"Number  Detected Plate Text : \",text)"
   ]
  },
  {
   "cell_type": "code",
   "execution_count": null,
   "metadata": {},
   "outputs": [],
   "source": []
  }
 ],
 "metadata": {
  "kernelspec": {
   "display_name": "Python 3",
   "language": "python",
   "name": "python3"
  },
  "language_info": {
   "codemirror_mode": {
    "name": "ipython",
    "version": 3
   },
   "file_extension": ".py",
   "mimetype": "text/x-python",
   "name": "python",
   "nbconvert_exporter": "python",
   "pygments_lexer": "ipython3",
   "version": "3.7.4"
  }
 },
 "nbformat": 4,
 "nbformat_minor": 2
}
