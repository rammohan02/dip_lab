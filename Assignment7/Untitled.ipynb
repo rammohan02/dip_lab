{
 "cells": [
  {
   "cell_type": "code",
   "execution_count": 1,
   "metadata": {},
   "outputs": [],
   "source": [
    "import cv2\n",
    "import numpy as np"
   ]
  },
  {
   "cell_type": "code",
   "execution_count": 94,
   "metadata": {},
   "outputs": [
    {
     "data": {
      "text/plain": [
       "10"
      ]
     },
     "execution_count": 94,
     "metadata": {},
     "output_type": "execute_result"
    }
   ],
   "source": [
    "a = [i for i in range(1, 11)]\n",
    "len(a)"
   ]
  },
  {
   "cell_type": "code",
   "execution_count": 93,
   "metadata": {},
   "outputs": [
    {
     "data": {
      "text/plain": [
       "[1, 3, 5, 7, 9]"
      ]
     },
     "execution_count": 93,
     "metadata": {},
     "output_type": "execute_result"
    }
   ],
   "source": [
    "b = a[0::2]\n",
    "b"
   ]
  },
  {
   "cell_type": "code",
   "execution_count": 10,
   "metadata": {},
   "outputs": [
    {
     "data": {
      "text/plain": [
       "[1, 2, 3, 4, 5, 6, 7, 8, 9]"
      ]
     },
     "execution_count": 10,
     "metadata": {},
     "output_type": "execute_result"
    }
   ],
   "source": [
    "x = a.copy()\n",
    "x"
   ]
  },
  {
   "cell_type": "code",
   "execution_count": 21,
   "metadata": {},
   "outputs": [
    {
     "name": "stdout",
     "output_type": "stream",
     "text": [
      "[0 1 2 3 4 5 6 7 8 9]\n"
     ]
    }
   ],
   "source": [
    "y = np.array(a)\n",
    "print(y)"
   ]
  },
  {
   "cell_type": "code",
   "execution_count": 46,
   "metadata": {},
   "outputs": [
    {
     "data": {
      "text/plain": [
       "[1, 2, 3, 4]"
      ]
     },
     "execution_count": 46,
     "metadata": {},
     "output_type": "execute_result"
    }
   ],
   "source": [
    "h = [1, 2]\n",
    "l = [3, 4]\n",
    "h+l"
   ]
  },
  {
   "cell_type": "code",
   "execution_count": 70,
   "metadata": {},
   "outputs": [],
   "source": [
    "def dft(f):\n",
    "    M = len(f)\n",
    "    F = []\n",
    "    \n",
    "    for u in range(M):\n",
    "        F.append(0)\n",
    "        for x in range(M):\n",
    "            F[u] += (f[x])*(np.exp((-2j)*np.pi*u*x/M))\n",
    "    return F\n",
    "\n",
    "def fft(f):\n",
    "    M = len(f)\n",
    "    \n",
    "    if(M<=1):\n",
    "        return dft(f)\n",
    "    else:\n",
    "        even = []\n",
    "        odd = []\n",
    "        for i in range(M):\n",
    "            if(i%2==0):\n",
    "                even.append(f[i])\n",
    "            else:\n",
    "                odd.append(f[i])\n",
    "                \n",
    "        G = fft(even)\n",
    "        H = fft(odd)\n",
    "        \n",
    "        F1 = []\n",
    "        F2 = []\n",
    "        \n",
    "        T = []\n",
    "        for i in range(M//2):\n",
    "            T.append(exp(-2j*np.pi*i/M)*H[i])\n",
    "        \n",
    "        for k in range(M//2):\n",
    "            F1.append(G[k] + T[k])\n",
    "            F2.append(G[k] - T[k])\n",
    "#         for u in range(M//2):\n",
    "#             F1.append(G[u] + (np.exp((-2j)*np.pi*u/M))*(H[u]))\n",
    "        \n",
    "#         for u in range(M//2, M):\n",
    "#             F2.append(G[u-(M//2)] - (np.exp((-2j)*np.pi*u/M))*(H[u-(M//2)]))\n",
    "            \n",
    "        return F1+F2"
   ]
  },
  {
   "cell_type": "code",
   "execution_count": 72,
   "metadata": {},
   "outputs": [
    {
     "name": "stdout",
     "output_type": "stream",
     "text": [
      "Inbuilt FFT: \n",
      "[55.  +0.j         -5.5+18.73127981j -5.5 +8.55816705j -5.5 +4.76577713j\n",
      " -5.5 +2.51176584j -5.5 +0.79078062j -5.5 -0.79078062j -5.5 -2.51176584j\n",
      " -5.5 -4.76577713j -5.5 -8.55816705j -5.5-18.73127981j]\n",
      "User defined FFT: \n"
     ]
    },
    {
     "ename": "IndexError",
     "evalue": "list index out of range",
     "output_type": "error",
     "traceback": [
      "\u001b[1;31m---------------------------------------------------------------------------\u001b[0m",
      "\u001b[1;31mIndexError\u001b[0m                                Traceback (most recent call last)",
      "\u001b[1;32m<ipython-input-72-e427ce2093d9>\u001b[0m in \u001b[0;36m<module>\u001b[1;34m\u001b[0m\n\u001b[0;32m      3\u001b[0m \u001b[0mprint\u001b[0m\u001b[1;33m(\u001b[0m\u001b[0mnp\u001b[0m\u001b[1;33m.\u001b[0m\u001b[0mfft\u001b[0m\u001b[1;33m.\u001b[0m\u001b[0mfft\u001b[0m\u001b[1;33m(\u001b[0m\u001b[0ma\u001b[0m\u001b[1;33m)\u001b[0m\u001b[1;33m)\u001b[0m\u001b[1;33m\u001b[0m\u001b[1;33m\u001b[0m\u001b[0m\n\u001b[0;32m      4\u001b[0m \u001b[0mprint\u001b[0m\u001b[1;33m(\u001b[0m\u001b[1;34m\"User defined FFT: \"\u001b[0m\u001b[1;33m)\u001b[0m\u001b[1;33m\u001b[0m\u001b[1;33m\u001b[0m\u001b[0m\n\u001b[1;32m----> 5\u001b[1;33m \u001b[0mdft_a\u001b[0m \u001b[1;33m=\u001b[0m \u001b[0mfft\u001b[0m\u001b[1;33m(\u001b[0m\u001b[0ma\u001b[0m\u001b[1;33m)\u001b[0m\u001b[1;33m\u001b[0m\u001b[1;33m\u001b[0m\u001b[0m\n\u001b[0m\u001b[0;32m      6\u001b[0m \u001b[0mprint\u001b[0m\u001b[1;33m(\u001b[0m\u001b[0mdft_a\u001b[0m\u001b[1;33m)\u001b[0m\u001b[1;33m\u001b[0m\u001b[1;33m\u001b[0m\u001b[0m\n",
      "\u001b[1;32m<ipython-input-70-697baf8f12c8>\u001b[0m in \u001b[0;36mfft\u001b[1;34m(f)\u001b[0m\n\u001b[0;32m     23\u001b[0m                 \u001b[0modd\u001b[0m\u001b[1;33m.\u001b[0m\u001b[0mappend\u001b[0m\u001b[1;33m(\u001b[0m\u001b[0mf\u001b[0m\u001b[1;33m[\u001b[0m\u001b[0mi\u001b[0m\u001b[1;33m]\u001b[0m\u001b[1;33m)\u001b[0m\u001b[1;33m\u001b[0m\u001b[1;33m\u001b[0m\u001b[0m\n\u001b[0;32m     24\u001b[0m \u001b[1;33m\u001b[0m\u001b[0m\n\u001b[1;32m---> 25\u001b[1;33m         \u001b[0mG\u001b[0m \u001b[1;33m=\u001b[0m \u001b[0mfft\u001b[0m\u001b[1;33m(\u001b[0m\u001b[0meven\u001b[0m\u001b[1;33m)\u001b[0m\u001b[1;33m\u001b[0m\u001b[1;33m\u001b[0m\u001b[0m\n\u001b[0m\u001b[0;32m     26\u001b[0m         \u001b[0mH\u001b[0m \u001b[1;33m=\u001b[0m \u001b[0mfft\u001b[0m\u001b[1;33m(\u001b[0m\u001b[0modd\u001b[0m\u001b[1;33m)\u001b[0m\u001b[1;33m\u001b[0m\u001b[1;33m\u001b[0m\u001b[0m\n\u001b[0;32m     27\u001b[0m \u001b[1;33m\u001b[0m\u001b[0m\n",
      "\u001b[1;32m<ipython-input-70-697baf8f12c8>\u001b[0m in \u001b[0;36mfft\u001b[1;34m(f)\u001b[0m\n\u001b[0;32m     31\u001b[0m         \u001b[0mT\u001b[0m \u001b[1;33m=\u001b[0m \u001b[1;33m[\u001b[0m\u001b[1;33m]\u001b[0m\u001b[1;33m\u001b[0m\u001b[1;33m\u001b[0m\u001b[0m\n\u001b[0;32m     32\u001b[0m         \u001b[1;32mfor\u001b[0m \u001b[0mi\u001b[0m \u001b[1;32min\u001b[0m \u001b[0mrange\u001b[0m\u001b[1;33m(\u001b[0m\u001b[0mM\u001b[0m\u001b[1;33m//\u001b[0m\u001b[1;36m2\u001b[0m\u001b[1;33m)\u001b[0m\u001b[1;33m:\u001b[0m\u001b[1;33m\u001b[0m\u001b[1;33m\u001b[0m\u001b[0m\n\u001b[1;32m---> 33\u001b[1;33m             \u001b[0mT\u001b[0m\u001b[1;33m.\u001b[0m\u001b[0mappend\u001b[0m\u001b[1;33m(\u001b[0m\u001b[0mexp\u001b[0m\u001b[1;33m(\u001b[0m\u001b[1;33m-\u001b[0m\u001b[1;36m2j\u001b[0m\u001b[1;33m*\u001b[0m\u001b[0mnp\u001b[0m\u001b[1;33m.\u001b[0m\u001b[0mpi\u001b[0m\u001b[1;33m*\u001b[0m\u001b[0mi\u001b[0m\u001b[1;33m/\u001b[0m\u001b[0mM\u001b[0m\u001b[1;33m)\u001b[0m\u001b[1;33m*\u001b[0m\u001b[0mH\u001b[0m\u001b[1;33m[\u001b[0m\u001b[0mi\u001b[0m\u001b[1;33m]\u001b[0m\u001b[1;33m)\u001b[0m\u001b[1;33m\u001b[0m\u001b[1;33m\u001b[0m\u001b[0m\n\u001b[0m\u001b[0;32m     34\u001b[0m \u001b[1;33m\u001b[0m\u001b[0m\n\u001b[0;32m     35\u001b[0m         \u001b[1;32mfor\u001b[0m \u001b[0mk\u001b[0m \u001b[1;32min\u001b[0m \u001b[0mrange\u001b[0m\u001b[1;33m(\u001b[0m\u001b[0mM\u001b[0m\u001b[1;33m//\u001b[0m\u001b[1;36m2\u001b[0m\u001b[1;33m)\u001b[0m\u001b[1;33m:\u001b[0m\u001b[1;33m\u001b[0m\u001b[1;33m\u001b[0m\u001b[0m\n",
      "\u001b[1;31mIndexError\u001b[0m: list index out of range"
     ]
    }
   ],
   "source": [
    "a = [i for i in range(0, 11)]\n",
    "print(\"Inbuilt FFT: \")\n",
    "print(np.fft.fft(a))\n",
    "print(\"User defined FFT: \")\n",
    "dft_a = fft(a)\n",
    "print(dft_a)"
   ]
  },
  {
   "cell_type": "code",
   "execution_count": 99,
   "metadata": {},
   "outputs": [],
   "source": [
    "def dft(f):\n",
    "    M = len(f)\n",
    "    F = []\n",
    "    \n",
    "    for u in range(M):\n",
    "        F.append(0)\n",
    "        for x in range(M):\n",
    "            F[u] += (f[x])*(np.exp((-2j)*np.pi*u*x/M))\n",
    "    return F\n",
    "\n",
    "# def idft(F):\n",
    "#     M = len(F)\n",
    "#     f = []\n",
    "    \n",
    "#     for u in range(M):\n",
    "#         temp = 0\n",
    "#         for x in range(M):\n",
    "#             temp += (F[x])*(np.exp((2j)*np.pi*u*x/M))\n",
    "#         f.append(temp/M)\n",
    "#     return f\n",
    "\n",
    "def fft(f):\n",
    "    M = len(f)\n",
    "    \n",
    "    if M==1:\n",
    "        return f\n",
    "    \n",
    "    even = []\n",
    "    odd = []\n",
    "    for i in range(M):\n",
    "        if(i%2==0):\n",
    "            even.append(f[i])\n",
    "        else:\n",
    "            odd.append(f[i])\n",
    "    \n",
    "    G = dft(even)\n",
    "    H = dft(odd)\n",
    "    \n",
    "    F = []\n",
    "    for i in range(M//2):\n",
    "        F.append(G[i] + (np.exp((-2j)*np.pi*i/M))*(H[i]))\n",
    "    \n",
    "    for i in range(M//2, M):\n",
    "        F.append(G[i-(M//2)] - (np.exp((-2j)*np.pi*i/M))*(H[i-(M//2)]))\n",
    "        \n",
    "    return F\n",
    "\n",
    "# def ifft(F):\n",
    "#     M = len(F)\n",
    "    \n",
    "#     even = []\n",
    "#     odd = []\n",
    "#     for i in range(M):\n",
    "#         if(i%2==0):\n",
    "#             even.append(F[i])\n",
    "#         else:\n",
    "#             odd.append(F[i])\n",
    "    \n",
    "#     G = idft(even)\n",
    "#     H = idft(odd)\n",
    "    \n",
    "#     f = []\n",
    "#     for i in range(M//2):\n",
    "#         f.append(G[i] + (np.exp((2j)*np.pi*i/M))*(H[i]))\n",
    "    \n",
    "#     for i in range(M//2, M):\n",
    "#         f.append(G[i-(M//2)] - (np.exp((2j)*np.pi*i/M))*(H[i-(M//2)]))\n",
    "        \n",
    "#     return f"
   ]
  },
  {
   "cell_type": "code",
   "execution_count": 100,
   "metadata": {},
   "outputs": [
    {
     "name": "stdout",
     "output_type": "stream",
     "text": [
      "Inbuilt FFT: \n",
      "[55.  +0.j         -5.5+18.73127981j -5.5 +8.55816705j -5.5 +4.76577713j\n",
      " -5.5 +2.51176584j -5.5 +0.79078062j -5.5 -0.79078062j -5.5 -2.51176584j\n",
      " -5.5 -4.76577713j -5.5 -8.55816705j -5.5-18.73127981j]\n",
      "User defined FFT: \n"
     ]
    },
    {
     "ename": "IndexError",
     "evalue": "list index out of range",
     "output_type": "error",
     "traceback": [
      "\u001b[1;31m---------------------------------------------------------------------------\u001b[0m",
      "\u001b[1;31mIndexError\u001b[0m                                Traceback (most recent call last)",
      "\u001b[1;32m<ipython-input-100-d809693f61a3>\u001b[0m in \u001b[0;36m<module>\u001b[1;34m\u001b[0m\n\u001b[0;32m      4\u001b[0m \u001b[0mprint\u001b[0m\u001b[1;33m(\u001b[0m\u001b[0min_fft\u001b[0m\u001b[1;33m)\u001b[0m\u001b[1;33m\u001b[0m\u001b[1;33m\u001b[0m\u001b[0m\n\u001b[0;32m      5\u001b[0m \u001b[0mprint\u001b[0m\u001b[1;33m(\u001b[0m\u001b[1;34m\"User defined FFT: \"\u001b[0m\u001b[1;33m)\u001b[0m\u001b[1;33m\u001b[0m\u001b[1;33m\u001b[0m\u001b[0m\n\u001b[1;32m----> 6\u001b[1;33m \u001b[0mdft_a\u001b[0m \u001b[1;33m=\u001b[0m \u001b[0mfft\u001b[0m\u001b[1;33m(\u001b[0m\u001b[0ma\u001b[0m\u001b[1;33m)\u001b[0m\u001b[1;33m\u001b[0m\u001b[1;33m\u001b[0m\u001b[0m\n\u001b[0m\u001b[0;32m      7\u001b[0m \u001b[0mprint\u001b[0m\u001b[1;33m(\u001b[0m\u001b[0mdft_a\u001b[0m\u001b[1;33m)\u001b[0m\u001b[1;33m\u001b[0m\u001b[1;33m\u001b[0m\u001b[0m\n",
      "\u001b[1;32m<ipython-input-99-231e2db6bf8e>\u001b[0m in \u001b[0;36mfft\u001b[1;34m(f)\u001b[0m\n\u001b[0;32m     42\u001b[0m \u001b[1;33m\u001b[0m\u001b[0m\n\u001b[0;32m     43\u001b[0m     \u001b[1;32mfor\u001b[0m \u001b[0mi\u001b[0m \u001b[1;32min\u001b[0m \u001b[0mrange\u001b[0m\u001b[1;33m(\u001b[0m\u001b[0mM\u001b[0m\u001b[1;33m//\u001b[0m\u001b[1;36m2\u001b[0m\u001b[1;33m,\u001b[0m \u001b[0mM\u001b[0m\u001b[1;33m)\u001b[0m\u001b[1;33m:\u001b[0m\u001b[1;33m\u001b[0m\u001b[1;33m\u001b[0m\u001b[0m\n\u001b[1;32m---> 44\u001b[1;33m         \u001b[0mF\u001b[0m\u001b[1;33m.\u001b[0m\u001b[0mappend\u001b[0m\u001b[1;33m(\u001b[0m\u001b[0mG\u001b[0m\u001b[1;33m[\u001b[0m\u001b[0mi\u001b[0m\u001b[1;33m-\u001b[0m\u001b[1;33m(\u001b[0m\u001b[0mM\u001b[0m\u001b[1;33m//\u001b[0m\u001b[1;36m2\u001b[0m\u001b[1;33m)\u001b[0m\u001b[1;33m]\u001b[0m \u001b[1;33m-\u001b[0m \u001b[1;33m(\u001b[0m\u001b[0mnp\u001b[0m\u001b[1;33m.\u001b[0m\u001b[0mexp\u001b[0m\u001b[1;33m(\u001b[0m\u001b[1;33m(\u001b[0m\u001b[1;33m-\u001b[0m\u001b[1;36m2j\u001b[0m\u001b[1;33m)\u001b[0m\u001b[1;33m*\u001b[0m\u001b[0mnp\u001b[0m\u001b[1;33m.\u001b[0m\u001b[0mpi\u001b[0m\u001b[1;33m*\u001b[0m\u001b[0mi\u001b[0m\u001b[1;33m/\u001b[0m\u001b[0mM\u001b[0m\u001b[1;33m)\u001b[0m\u001b[1;33m)\u001b[0m\u001b[1;33m*\u001b[0m\u001b[1;33m(\u001b[0m\u001b[0mH\u001b[0m\u001b[1;33m[\u001b[0m\u001b[0mi\u001b[0m\u001b[1;33m-\u001b[0m\u001b[1;33m(\u001b[0m\u001b[0mM\u001b[0m\u001b[1;33m//\u001b[0m\u001b[1;36m2\u001b[0m\u001b[1;33m)\u001b[0m\u001b[1;33m]\u001b[0m\u001b[1;33m)\u001b[0m\u001b[1;33m)\u001b[0m\u001b[1;33m\u001b[0m\u001b[1;33m\u001b[0m\u001b[0m\n\u001b[0m\u001b[0;32m     45\u001b[0m \u001b[1;33m\u001b[0m\u001b[0m\n\u001b[0;32m     46\u001b[0m     \u001b[1;32mreturn\u001b[0m \u001b[0mF\u001b[0m\u001b[1;33m\u001b[0m\u001b[1;33m\u001b[0m\u001b[0m\n",
      "\u001b[1;31mIndexError\u001b[0m: list index out of range"
     ]
    }
   ],
   "source": [
    "a = [i for i in range(0, 11)]\n",
    "print(\"Inbuilt FFT: \")\n",
    "in_fft = np.fft.fft(a)\n",
    "print(in_fft)\n",
    "print(\"User defined FFT: \")\n",
    "dft_a = fft(a)\n",
    "print(dft_a)"
   ]
  },
  {
   "cell_type": "code",
   "execution_count": 89,
   "metadata": {},
   "outputs": [
    {
     "data": {
      "text/plain": [
       "array([28.+0.00000000e+00j, -4.+9.65685425e+00j, -4.+4.00000000e+00j,\n",
       "       -4.+1.65685425e+00j, 28.+1.95943488e-15j, -4.+9.65685425e+00j,\n",
       "       -4.+4.00000000e+00j, -4.+1.65685425e+00j])"
      ]
     },
     "execution_count": 89,
     "metadata": {},
     "output_type": "execute_result"
    }
   ],
   "source": [
    "dft_a = np.array(dft_a)\n",
    "dft_a"
   ]
  },
  {
   "cell_type": "code",
   "execution_count": 91,
   "metadata": {},
   "outputs": [
    {
     "name": "stdout",
     "output_type": "stream",
     "text": [
      "[ 4.+3.82842712e+00j  0.+2.31021885e-17j  6.-1.00000000e+00j\n",
      "  0.-1.98942416e-16j  8.-1.82842712e+00j  0.-2.90916303e-16j\n",
      " 10.-1.00000000e+00j  0.-5.12960908e-16j]\n"
     ]
    }
   ],
   "source": [
    "# idft_a = idft(dft_a)\n",
    "# print(\"IDFT of DFT(A): \")\n",
    "# print(idft_a)\n",
    "print(np.fft.ifft(dft_a))"
   ]
  },
  {
   "cell_type": "code",
   "execution_count": 24,
   "metadata": {},
   "outputs": [],
   "source": [
    "dog = cv2.imread('Dog.jpg', 0)\n",
    "lenna = cv2.imread('Lenna.jpg', 0)"
   ]
  },
  {
   "cell_type": "code",
   "execution_count": 29,
   "metadata": {},
   "outputs": [
    {
     "name": "stdout",
     "output_type": "stream",
     "text": [
      "720\n",
      "(900, 720)\n"
     ]
    }
   ],
   "source": [
    "print(len(dog[0]))\n",
    "print(dog.shape)"
   ]
  },
  {
   "cell_type": "code",
   "execution_count": null,
   "metadata": {},
   "outputs": [],
   "source": [
    "#2D FFT\n",
    "\n",
    "def fft_2d(f):\n",
    "    F1 = []\n",
    "    \n",
    "    for i in range(len(f)):\n",
    "        F1.append(fft(f[i]))\n",
    "    \n",
    "    for i in range(len())"
   ]
  },
  {
   "cell_type": "code",
   "execution_count": 11,
   "metadata": {},
   "outputs": [
    {
     "name": "stdout",
     "output_type": "stream",
     "text": [
      "inbuilt: [55. +0.j         -5.+15.38841769j -5. +6.8819096j  -5. +3.63271264j\n",
      " -5. +1.62459848j -5. +0.j         -5. -1.62459848j -5. -3.63271264j\n",
      " -5. -6.8819096j  -5.-15.38841769j]\n",
      "calling fft: [(55+0j), (-5.000000000000001+15.388417685876266j), (-5.0000000000000036+6.881909602355863j), (-5.0000000000000036+3.632712640026802j), (-5.000000000000002+1.6245984811645284j), (-5+0j), (-5.000000000000001-1.6245984811645329j), (-4.999999999999998-3.632712640026806j), (-4.999999999999995-6.8819096023558695j), (-4.999999999999984-15.388417685876266j)]\n"
     ]
    }
   ],
   "source": [
    "import numpy as np\n",
    "import cv2\n",
    "import array\n",
    "\n",
    "def dft(signal):\n",
    "    F=[]\n",
    "    M=len(signal)\n",
    "    for u in range(0,M):\n",
    "        temp=0\n",
    "        for x in range(0,M):\n",
    "            temp+=signal[x]*(np.exp((-2j)*np.pi*u*x/M))\n",
    "        F.append(temp)\n",
    "    return(F)\n",
    "\n",
    "def fft(f):\n",
    "    M=len(f)\n",
    "    odd=[]\n",
    "    even=[]\n",
    "    G=[]\n",
    "    H=[]\n",
    "    if M==1:\n",
    "        return(dft(f))\n",
    "    else:\n",
    "        for i in range(M):\n",
    "            if i%2==0:\n",
    "                even.append(f[i])\n",
    "            else:\n",
    "                odd.append(f[i])\n",
    "        G=(dft(even)).copy()\n",
    "        H=(dft(odd)).copy()\n",
    "        F1=[]\n",
    "        F2=[]\n",
    "        for u in range(0,int(M/2)):\n",
    "            temp1=G[u]+np.multiply(np.exp(-2j*np.pi*u/M),H[u])\n",
    "            F1.append(temp1)\n",
    "        for u in range(int(M/2),M):\n",
    "            temp2=G[u-int(M/2)]-np.multiply(np.exp(-2j*np.pi*(u-int(M/2))/M),H[u-int(M/2)])\n",
    "            F1.append(temp2)\n",
    "#        print(\"fft function output:\",F1)    \n",
    "        return(F1)\n",
    "\n",
    "a=[1,2,3,4,5,6,7,8,9,10]\n",
    "print(\"inbuilt:\",np.fft.fft(a))\n",
    "print(\"calling fft:\",fft(a))"
   ]
  },
  {
   "cell_type": "code",
   "execution_count": 65,
   "metadata": {},
   "outputs": [
    {
     "name": "stdout",
     "output_type": "stream",
     "text": [
      "[(28+0j), (-4+9.65685424949238j), (-4+4j), (-4+1.6568542494923797j), (-4+0j), (-4-1.6568542494923806j), (-3.9999999999999996-4j), (-3.9999999999999987-9.65685424949238j)]\n",
      "[0, 1, 2, 3, 4, 5, 6, 7]\n"
     ]
    }
   ],
   "source": [
    "from cmath import exp, pi, phase\n",
    "import math\n",
    "def fft(x):\n",
    "    n=len(x)\n",
    "    if(n<=1):\n",
    "        return x\n",
    "    even= fft(x[0::2])\n",
    "    odd = fft(x[1::2])\n",
    "    \n",
    "    T = []\n",
    "    for k in range(n//2):\n",
    "        T.append(exp(-2j*pi*k/n)*odd[k])\n",
    "        \n",
    "    FL = []\n",
    "    FR = []\n",
    "    for k in range(n//2):\n",
    "        FL.append(even[k] + T[k])\n",
    "        FR.append(even[k] - T[k])\n",
    "    \n",
    "    return FL + FR\n",
    "    \n",
    "def ifft(x):\n",
    "    n=len(x)\n",
    "    if(n<=1):\n",
    "        return x\n",
    "    \n",
    "    even= ifft(x[0::2])\n",
    "    odd = ifft(x[1::2])\n",
    "    \n",
    "    T = []\n",
    "    for k in range(n//2):\n",
    "        T.append(exp(2j*pi*k/n)*odd[k])\n",
    "        \n",
    "    FL = []\n",
    "    FR = []\n",
    "    for k in range(n//2):\n",
    "        FL.append(even[k] + T[k])\n",
    "        FR.append(even[k] - T[k])\n",
    "        \n",
    "    return FL + FR\n",
    "    \n",
    "points = [0,1,2,3,4,5,6,7]\n",
    "temp1 = fft(points)\n",
    "print(temp1)\n",
    "temp2 = ifft(temp1)\n",
    "temp2 = [int(abs(i)/8) for i in temp2]\n",
    "print(temp2)"
   ]
  },
  {
   "cell_type": "code",
   "execution_count": null,
   "metadata": {},
   "outputs": [],
   "source": []
  }
 ],
 "metadata": {
  "kernelspec": {
   "display_name": "Python 3",
   "language": "python",
   "name": "python3"
  },
  "language_info": {
   "codemirror_mode": {
    "name": "ipython",
    "version": 3
   },
   "file_extension": ".py",
   "mimetype": "text/x-python",
   "name": "python",
   "nbconvert_exporter": "python",
   "pygments_lexer": "ipython3",
   "version": "3.7.4"
  }
 },
 "nbformat": 4,
 "nbformat_minor": 2
}
