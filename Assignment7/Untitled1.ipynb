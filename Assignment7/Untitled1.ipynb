{
 "cells": [
  {
   "cell_type": "code",
   "execution_count": 1,
   "metadata": {},
   "outputs": [],
   "source": [
    "import cv2\n",
    "import numpy as np"
   ]
  },
  {
   "cell_type": "code",
   "execution_count": 2,
   "metadata": {},
   "outputs": [],
   "source": [
    "a = [0, 1, 2, 3, 4, 5, 6, 7, 8]"
   ]
  },
  {
   "cell_type": "code",
   "execution_count": 3,
   "metadata": {},
   "outputs": [
    {
     "name": "stdout",
     "output_type": "stream",
     "text": [
      "Inbuilt fft: \n",
      "[36.  +0.j         -4.5+12.36364839j -4.5 +5.36289117j -4.5 +2.59807621j\n",
      " -4.5 +0.79347141j -4.5 -0.79347141j -4.5 -2.59807621j -4.5 -5.36289117j\n",
      " -4.5-12.36364839j]\n",
      "Inbuilt ifft: \n",
      "[0.+0.00000000e+00j 1.+1.97372982e-16j 2.-9.86864911e-17j\n",
      " 3.+0.00000000e+00j 4.-2.69616508e-16j 5.+2.20273262e-16j\n",
      " 6.+0.00000000e+00j 7.+7.22435255e-17j 8.-1.21586771e-16j]\n"
     ]
    }
   ],
   "source": [
    "# in builf fft\n",
    "in_fft = np.fft.fft(a)\n",
    "\n",
    "#in built ifft\n",
    "in_ifft = np.fft.ifft(in_fft)\n",
    "\n",
    "print(\"Inbuilt fft: \")\n",
    "print(in_fft)\n",
    "print(\"Inbuilt ifft: \")\n",
    "print(in_ifft)"
   ]
  },
  {
   "cell_type": "code",
   "execution_count": 8,
   "metadata": {},
   "outputs": [],
   "source": [
    "# User defined FFT\n",
    "def fft(f):\n",
    "    M = len(f)\n",
    "    \n",
    "    if(M<=1):\n",
    "        return f\n",
    "    \n",
    "    even = f[0::2]\n",
    "    odd = f[1::2]\n",
    "    \n",
    "    G = fft(even)\n",
    "    H = fft(odd)\n",
    "    \n",
    "    #print(G, H, M)\n",
    "    \n",
    "    T = []\n",
    "    #print('H: ', H)\n",
    "    for i in range(M//2):\n",
    "        #print(i)\n",
    "        T.append((np.exp((-2j)*np.pi*i/M))*H[i])\n",
    "    \n",
    "    F1 = []\n",
    "    F2 = []\n",
    "    for i in range(M//2):\n",
    "        F1.append(G[i] + T[i])\n",
    "        F2.append(G[i] - T[i])\n",
    "    \n",
    "    F = F1+F2\n",
    "    #print(F)\n",
    "    return F"
   ]
  },
  {
   "cell_type": "code",
   "execution_count": 5,
   "metadata": {},
   "outputs": [],
   "source": [
    "# User defined IFFT\n",
    "def ifft(f):\n",
    "    M = len(f)\n",
    "    \n",
    "    if(M<=1):\n",
    "        return f\n",
    "    \n",
    "    even = f[0::2]\n",
    "    odd = f[1::2]\n",
    "    \n",
    "    G = ifft(even)\n",
    "    H = ifft(odd)\n",
    "    \n",
    "    T = []\n",
    "    for i in range(min(M//2, len(H))):\n",
    "        T.append((np.exp((2j)*np.pi*i/M))*H[i])\n",
    "    \n",
    "    F1 = []\n",
    "    F2 = []\n",
    "    for i in range(len(H)):\n",
    "        F1.append(G[i] + T[i])\n",
    "        F2.append(G[i] - T[i])\n",
    "    \n",
    "    F = F1+F2\n",
    "    return F"
   ]
  },
  {
   "cell_type": "code",
   "execution_count": 10,
   "metadata": {},
   "outputs": [
    {
     "name": "stdout",
     "output_type": "stream",
     "text": [
      "User defined fft: \n",
      "[(36+0j), (2.270904688770455+9.439554276402683j), (3.3054072893322783+3.939231012048832j), (3.7719663623620336+1.6598755499571394j), (4+0j), (3.2569593562299652-1.8311021460414545j), (4.694592710667722-3.939231012048832j), (6.700169592637546-9.268327680318368j)]\n"
     ]
    }
   ],
   "source": [
    "u_fft = fft(a)\n",
    "print(\"User defined fft: \")\n",
    "print(u_fft)\n",
    "\n",
    "# [36.  +0.j         -4.5+12.36364839j -4.5 +5.36289117j -4.5 +2.59807621j\n",
    "#  -4.5 +0.79347141j -4.5 -0.79347141j -4.5 -2.59807621j -4.5 -5.36289117j\n",
    "#  -4.5-12.36364839j]"
   ]
  },
  {
   "cell_type": "code",
   "execution_count": 7,
   "metadata": {},
   "outputs": [
    {
     "name": "stdout",
     "output_type": "stream",
     "text": [
      "User defined ifft: \n",
      "[64.        +0.j          9.7978802 -3.91483275j 16.78309574-4.94427191j\n",
      " 22.80819141-1.62076386j 32.        +0.j         38.44519575+1.13646191j\n",
      " 47.21690426+4.94427191j 56.94873264+4.3991347j ]\n",
      "[7, 1, 1, 2, 3, 4, 5, 6]\n"
     ]
    }
   ],
   "source": [
    "u_ifft = ifft(u_fft)\n",
    "print(\"User defined ifft: \")\n",
    "print(np.array(u_ifft))\n",
    "u_ifft = [int(abs(i)/9) for i in u_ifft]\n",
    "print(u_ifft)"
   ]
  },
  {
   "cell_type": "code",
   "execution_count": null,
   "metadata": {},
   "outputs": [],
   "source": []
  },
  {
   "cell_type": "code",
   "execution_count": null,
   "metadata": {},
   "outputs": [],
   "source": [
    "[55. +0.j         -5.+15.38841769j -5. +6.8819096j  -5. +3.63271264j\n",
    " -5. +1.62459848j -5. +0.j         -5. -1.62459848j -5. -3.63271264j\n",
    " -5. -6.8819096j  -5.-15.38841769j]"
   ]
  },
  {
   "cell_type": "code",
   "execution_count": null,
   "metadata": {},
   "outputs": [],
   "source": [
    "u_ifft = np.fft.ifft(u_fft)\n",
    "print(u_ifft)"
   ]
  },
  {
   "cell_type": "code",
   "execution_count": null,
   "metadata": {},
   "outputs": [],
   "source": []
  },
  {
   "cell_type": "code",
   "execution_count": null,
   "metadata": {},
   "outputs": [],
   "source": []
  },
  {
   "cell_type": "code",
   "execution_count": null,
   "metadata": {},
   "outputs": [],
   "source": [
    "def dft(f):\n",
    "    M = len(f)\n",
    "    F = []\n",
    "    \n",
    "    for u in range(M):\n",
    "        F.append(0)\n",
    "        for x in range(M):\n",
    "            F[u] += (f[x])*(np.exp((-2j)*np.pi*u*x/M))\n",
    "    return F\n",
    "\n",
    "\n",
    "def fft1(f):\n",
    "    M = len(f)\n",
    "    \n",
    "    even = []\n",
    "    odd = []\n",
    "    for i in range(M):\n",
    "        if(i%2==0):\n",
    "            even.append(f[i])\n",
    "        else:\n",
    "            odd.append(f[i])\n",
    "    \n",
    "    G = dft(even)\n",
    "    H = dft(odd)\n",
    "    \n",
    "    F = []\n",
    "    for i in range(M//2):\n",
    "        F.append(G[i] + (np.exp((-2j)*np.pi*i/M))*(H[i]))\n",
    "    \n",
    "    for i in range(M//2, M):\n",
    "        F.append(G[i-(M//2)] - (np.exp((-2j)*np.pi*i/M))*(H[i-(M//2)]))\n",
    "    \n",
    "    return F"
   ]
  },
  {
   "cell_type": "code",
   "execution_count": null,
   "metadata": {},
   "outputs": [],
   "source": [
    "u_fft1 = fft1(a)\n",
    "print(\"User defined fft: \")\n",
    "print(u_fft1)"
   ]
  },
  {
   "cell_type": "code",
   "execution_count": null,
   "metadata": {},
   "outputs": [],
   "source": [
    "[55. +0.j         -5.+15.38841769j -5. +6.8819096j  -5. +3.63271264j\n",
    " -5. +1.62459848j -5. +0.j         -5. -1.62459848j -5. -3.63271264j\n",
    " -5. -6.8819096j  -5.-15.38841769j]"
   ]
  },
  {
   "cell_type": "code",
   "execution_count": null,
   "metadata": {},
   "outputs": [],
   "source": []
  },
  {
   "cell_type": "code",
   "execution_count": null,
   "metadata": {},
   "outputs": [],
   "source": []
  },
  {
   "cell_type": "code",
   "execution_count": null,
   "metadata": {},
   "outputs": [],
   "source": []
  }
 ],
 "metadata": {
  "kernelspec": {
   "display_name": "Python 3",
   "language": "python",
   "name": "python3"
  },
  "language_info": {
   "codemirror_mode": {
    "name": "ipython",
    "version": 3
   },
   "file_extension": ".py",
   "mimetype": "text/x-python",
   "name": "python",
   "nbconvert_exporter": "python",
   "pygments_lexer": "ipython3",
   "version": "3.7.4"
  }
 },
 "nbformat": 4,
 "nbformat_minor": 2
}
