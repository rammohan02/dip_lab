{
 "cells": [
  {
   "cell_type": "code",
   "execution_count": 1,
   "metadata": {},
   "outputs": [],
   "source": [
    "import cv2\n",
    "from matplotlib import pyplot as plt\n",
    "import numpy as np\n",
    "from statistics import median\n",
    "from skimage import transform"
   ]
  },
  {
   "cell_type": "markdown",
   "metadata": {},
   "source": [
    "# Q1"
   ]
  },
  {
   "cell_type": "code",
   "execution_count": 2,
   "metadata": {},
   "outputs": [
    {
     "data": {
      "text/plain": [
       "(258, 221)"
      ]
     },
     "execution_count": 2,
     "metadata": {},
     "output_type": "execute_result"
    }
   ],
   "source": [
    "img1 = cv2.imread('pout-dark.jpg', 0)\n",
    "\n",
    "cv2.imshow('img1', img1)\n",
    "cv2.waitKey(0)\n",
    "cv2.destroyAllWindows()\n",
    "img1.shape"
   ]
  },
  {
   "cell_type": "code",
   "execution_count": 3,
   "metadata": {},
   "outputs": [],
   "source": [
    "# Inbuilt function for hitogram equalizing\n",
    "\n",
    "equ_img1 = cv2.equalizeHist(img1)\n",
    "cv2.imwrite(\"Equalize_inbuilt.jpg\", equ_img1)\n",
    "cv2.imshow('equ_img1', equ_img1)\n",
    "cv2.waitKey(0)\n",
    "cv2.destroyAllWindows()"
   ]
  },
  {
   "cell_type": "code",
   "execution_count": 4,
   "metadata": {},
   "outputs": [],
   "source": [
    "# User defined function for histogram equalizing\n",
    "\n",
    "def hist_equ(img):\n",
    "    \n",
    "    rows, cols = img.shape\n",
    "    fr = [0 for i in range(256)]\n",
    "    # Finding frequency\n",
    "    for j in range(rows):\n",
    "        for k in range(cols):\n",
    "            fr[img[j][k]] +=1\n",
    "    \n",
    "    total_pixels = rows * cols\n",
    "    \n",
    "    prob = []\n",
    "    # Finding probabilty\n",
    "    for i in range(len(fr)):\n",
    "        prob.append(fr[i]/total_pixels)\n",
    "        \n",
    "    cum_prob = []\n",
    "    prev = 0\n",
    "    # Finding cumulative probability\n",
    "    for i in range(len(prob)):\n",
    "        prev = prev + prob[i]\n",
    "        cum_prob.append(prev)\n",
    "    \n",
    "    s = []\n",
    "    # Finding s\n",
    "    for i in range(len(cum_prob)):\n",
    "        s.append(round(cum_prob[i]*255))\n",
    "    \n",
    "    equ_img = np.zeros((rows, cols))\n",
    "    # Final mapping\n",
    "    for i in range(rows):\n",
    "        for j in range(cols):\n",
    "            r = img[i][j]\n",
    "            equ_img[i][j] = s[r]\n",
    "    \n",
    "    return equ_img\n",
    "\n",
    "equ_img1_1 = hist_equ(img1)\n",
    "\n",
    "equ_img1_1 = np.array(equ_img1_1, dtype='uint8')\n",
    "\n",
    "# cv2.imshow('equ_img1_1', equ_img1_1)\n",
    "# cv2.waitKey(0)\n",
    "# cv2.destroyAllWindows()"
   ]
  },
  {
   "cell_type": "code",
   "execution_count": 14,
   "metadata": {},
   "outputs": [],
   "source": [
    "cv2.imwrite(\"Equalize_user.jpg\", equ_img1_1)\n",
    "cv2.imshow('User_defined', equ_img1_1)\n",
    "cv2.imshow('inbuilt', equ_img1)\n",
    "cv2.waitKey(0)\n",
    "cv2.destroyAllWindows()"
   ]
  },
  {
   "cell_type": "code",
   "execution_count": 6,
   "metadata": {},
   "outputs": [
    {
     "data": {
      "text/plain": [
       "1.0"
      ]
     },
     "execution_count": 6,
     "metadata": {},
     "output_type": "execute_result"
    }
   ],
   "source": [
    "hist,bins = np.histogram(img1,256,[0,256])\n",
    "\n",
    "h = hist/57018\n",
    "\n",
    "h.sum()\n",
    "\n",
    "# 1984/57018"
   ]
  },
  {
   "cell_type": "markdown",
   "metadata": {},
   "source": [
    "# Q2"
   ]
  },
  {
   "cell_type": "code",
   "execution_count": 7,
   "metadata": {},
   "outputs": [],
   "source": [
    "img2 = cv2.imread('pout-dark.jpg', 0)\n",
    "img2_ref = cv2.imread('pout-bright.jpg', 0)"
   ]
  },
  {
   "cell_type": "code",
   "execution_count": 8,
   "metadata": {},
   "outputs": [
    {
     "data": {
      "text/plain": [
       "(258, 221)"
      ]
     },
     "execution_count": 8,
     "metadata": {},
     "output_type": "execute_result"
    }
   ],
   "source": [
    "img2.shape"
   ]
  },
  {
   "cell_type": "code",
   "execution_count": 9,
   "metadata": {},
   "outputs": [],
   "source": [
    "# Inbuilt funcion for histogram matching\n",
    "\n",
    "matched = transform.match_histograms(img2, img2_ref, multichannel=True)\n",
    "cv2.imwrite('Matched_inbuilt.jpg', matched)\n",
    "cv2.imshow('match_img', matched)\n",
    "cv2.waitKey(0)\n",
    "cv2.destroyAllWindows()"
   ]
  },
  {
   "cell_type": "code",
   "execution_count": 10,
   "metadata": {},
   "outputs": [],
   "source": [
    "# User defined function for histogram matching\n",
    "# Complete function\n",
    "\n",
    "def find_freq(img, rows, cols):\n",
    "#     rows, cols = img.shape\n",
    "    fr = [0 for i in range(256)]\n",
    "    \n",
    "    \n",
    "    for j in range(rows):\n",
    "        for k in range(cols):\n",
    "            fr[img[j][k]] +=1\n",
    "        \n",
    "                \n",
    "#     for i in range(256):\n",
    "#         count = 0\n",
    "#         for j in range(rows):\n",
    "#             for k in range(cols):\n",
    "#                 if(img[j][k]==i):\n",
    "#                     count = count + 1\n",
    "#         fr.append(count)\n",
    "    \n",
    "    return fr\n",
    "\n",
    "def find_prob(fr, rows, cols):\n",
    "    total_pixels = rows * cols\n",
    "    \n",
    "    prob = []\n",
    "    for i in range(len(fr)):\n",
    "        prob.append(fr[i]/total_pixels)\n",
    "    \n",
    "    return prob\n",
    "\n",
    "def find_cum_prob(prob):\n",
    "    cum_prob = []\n",
    "    prev = 0\n",
    "    for i in range(len(prob)):\n",
    "        prev = prev + prob[i]\n",
    "        cum_prob.append(prev)\n",
    "    \n",
    "    return cum_prob\n",
    "\n",
    "def find_s(cum_prob):\n",
    "    s = []\n",
    "    for i in range(len(cum_prob)):\n",
    "        s.append(round(cum_prob[i]*255))\n",
    "    \n",
    "    return s\n",
    "\n",
    "\n",
    "        \n",
    "        \n",
    "def hist_equ(img):\n",
    "    rows, cols = img.shape\n",
    "    \n",
    "    freq = find_freq(img, rows, cols)\n",
    "    prob = find_prob(freq, rows, cols)\n",
    "    cum_prob = find_cum_prob(prob)\n",
    "    s = find_s(cum_prob)\n",
    "    \n",
    "    return s\n",
    "\n",
    "\n",
    "\n",
    "\n",
    "def hist_match(img, img_ref):\n",
    "    s = hist_equ(img)\n",
    "    v = hist_equ(img_ref)\n",
    "    rows, cols = img.shape\n",
    "    r = []\n",
    "    count = 0\n",
    "    \n",
    "    for i in range(256):\n",
    "        temp = 0\n",
    "        for j in range(len(v)):\n",
    "            if(v[j]==s[i]):\n",
    "                r .append(j)\n",
    "                temp = 1\n",
    "                break\n",
    "\n",
    "        if(temp==0):\n",
    "            near = []\n",
    "    #         print(i, 'A')\n",
    "            for k in range(len(v)):\n",
    "                near.append(abs(v[k]-s[i]))\n",
    "    #         print(near.count((min(near))))\n",
    "            r.append(near.index(min(near)))\n",
    "\n",
    "\n",
    "    match_img = np.zeros((rows, cols))\n",
    "    for i in range(rows):\n",
    "        for j in range(cols):\n",
    "            tmp = img2[i][j]\n",
    "            match_img[i][j] = r[tmp]\n",
    "\n",
    "    return match_img\n",
    "\n",
    "\n",
    "\n",
    "match_img_1 = hist_match(img2, img2_ref)\n",
    "match_img_1 = np.array(match_img_1, dtype='uint8')"
   ]
  },
  {
   "cell_type": "code",
   "execution_count": 15,
   "metadata": {},
   "outputs": [],
   "source": [
    "cv2.imwrite('Matched_user.jpg', match_img_1)\n",
    "cv2.imshow('match_img_inbuilt', matched)\n",
    "cv2.imshow('match_img_user', match_img_1)\n",
    "cv2.waitKey(0)\n",
    "cv2.destroyAllWindows()"
   ]
  },
  {
   "cell_type": "markdown",
   "metadata": {},
   "source": [
    "Method 2(With median when no match is found)"
   ]
  },
  {
   "cell_type": "code",
   "execution_count": 12,
   "metadata": {},
   "outputs": [],
   "source": [
    "# User defined function for histogram matching\n",
    "# Complete function\n",
    "\n",
    "def find_freq(img, rows, cols):\n",
    "#     rows, cols = img.shape\n",
    "    fr = [0 for i in range(256)]\n",
    "    for j in range(rows):\n",
    "        for k in range(cols):\n",
    "            fr[img[j][k]] +=1\n",
    "            \n",
    "    return fr\n",
    "\n",
    "def find_prob(fr, rows, cols):\n",
    "    total_pixels = rows * cols\n",
    "    \n",
    "    prob = []\n",
    "    for i in range(len(fr)):\n",
    "        prob.append(fr[i]/total_pixels)\n",
    "    \n",
    "    return prob\n",
    "\n",
    "def find_cum_prob(prob):\n",
    "    cum_prob = []\n",
    "    prev = 0\n",
    "    for i in range(len(prob)):\n",
    "        prev = prev + prob[i]\n",
    "        cum_prob.append(prev)\n",
    "    \n",
    "    return cum_prob\n",
    "\n",
    "def find_s(cum_prob):\n",
    "    s = []\n",
    "    for i in range(len(cum_prob)):\n",
    "        s.append(round(cum_prob[i]*255))\n",
    "    \n",
    "    return s\n",
    "\n",
    "\n",
    "        \n",
    "        \n",
    "def hist_equ(img):\n",
    "    rows, cols = img.shape\n",
    "    \n",
    "    freq = find_freq(img, rows, cols)\n",
    "    prob = find_prob(freq, rows, cols)\n",
    "    cum_prob = find_cum_prob(prob)\n",
    "    s = find_s(cum_prob)\n",
    "    \n",
    "    return s\n",
    "\n",
    "\n",
    "\n",
    "\n",
    "def hist_match(img, img_ref):\n",
    "    # Finding s for first image transormation\n",
    "    s = hist_equ(img)\n",
    "    # Finding s for second image transformation\n",
    "    v = hist_equ(img_ref)\n",
    "    \n",
    "    rows, cols = img.shape\n",
    "    r = []\n",
    "    count = 0\n",
    "    \n",
    "    for i in range(256):\n",
    "        temp = 0\n",
    "        temp_r = []\n",
    "        for j in range(len(v)):\n",
    "            if(v[j]==s[i]):\n",
    "                # \n",
    "                temp_r.append(j)\n",
    "                temp = 1\n",
    "\n",
    "        if(len(temp_r)==0):\n",
    "            near = []\n",
    "            for k in range(len(v)):\n",
    "                near.append(abs(v[k]-s[i]))\n",
    "                \n",
    "            temp_r.append(near.index(min(near)))\n",
    "        \n",
    "        r.append(int(median(temp_r)))\n",
    "\n",
    "\n",
    "    match_img = np.zeros((rows, cols))\n",
    "    for i in range(rows):\n",
    "        for j in range(cols):\n",
    "            tmp = img2[i][j]\n",
    "            match_img[i][j] = r[tmp]\n",
    "\n",
    "    return match_img\n",
    "\n",
    "\n",
    "\n",
    "match_img_1 = hist_match(img2, img2_ref)\n",
    "match_img_1 = np.array(match_img_1, dtype='uint8')"
   ]
  },
  {
   "cell_type": "code",
   "execution_count": 13,
   "metadata": {},
   "outputs": [],
   "source": [
    "# cv2.imwrite('Matched_user.jpg', match_img_1)\n",
    "cv2.imshow('match_img_inbuilt', matched)\n",
    "cv2.imshow('match_img_user', match_img_1)\n",
    "cv2.waitKey(0)\n",
    "cv2.destroyAllWindows()"
   ]
  },
  {
   "cell_type": "markdown",
   "metadata": {},
   "source": [
    "# Done"
   ]
  },
  {
   "cell_type": "code",
   "execution_count": 9,
   "metadata": {},
   "outputs": [
    {
     "ename": "KeyboardInterrupt",
     "evalue": "",
     "output_type": "error",
     "traceback": [
      "\u001b[1;31m---------------------------------------------------------------------------\u001b[0m",
      "\u001b[1;31mKeyboardInterrupt\u001b[0m                         Traceback (most recent call last)",
      "\u001b[1;32m<ipython-input-9-7751fb180005>\u001b[0m in \u001b[0;36m<module>\u001b[1;34m\u001b[0m\n\u001b[0;32m     87\u001b[0m \u001b[1;33m\u001b[0m\u001b[0m\n\u001b[0;32m     88\u001b[0m \u001b[1;33m\u001b[0m\u001b[0m\n\u001b[1;32m---> 89\u001b[1;33m \u001b[0ms\u001b[0m\u001b[1;33m,\u001b[0m \u001b[0mv\u001b[0m \u001b[1;33m=\u001b[0m \u001b[0mhist_match\u001b[0m\u001b[1;33m(\u001b[0m\u001b[0mimg2\u001b[0m\u001b[1;33m,\u001b[0m \u001b[0mimg2_ref\u001b[0m\u001b[1;33m)\u001b[0m\u001b[1;33m\u001b[0m\u001b[1;33m\u001b[0m\u001b[0m\n\u001b[0m\u001b[0;32m     90\u001b[0m \u001b[1;31m# print(s, v)\u001b[0m\u001b[1;33m\u001b[0m\u001b[1;33m\u001b[0m\u001b[1;33m\u001b[0m\u001b[0m\n",
      "\u001b[1;32m<ipython-input-9-7751fb180005>\u001b[0m in \u001b[0;36mhist_match\u001b[1;34m(img, img_ref)\u001b[0m\n\u001b[0;32m     62\u001b[0m \u001b[1;33m\u001b[0m\u001b[0m\n\u001b[0;32m     63\u001b[0m \u001b[1;32mdef\u001b[0m \u001b[0mhist_match\u001b[0m\u001b[1;33m(\u001b[0m\u001b[0mimg\u001b[0m\u001b[1;33m,\u001b[0m \u001b[0mimg_ref\u001b[0m\u001b[1;33m)\u001b[0m\u001b[1;33m:\u001b[0m\u001b[1;33m\u001b[0m\u001b[1;33m\u001b[0m\u001b[0m\n\u001b[1;32m---> 64\u001b[1;33m     \u001b[0ms\u001b[0m \u001b[1;33m=\u001b[0m \u001b[0mhist_equ\u001b[0m\u001b[1;33m(\u001b[0m\u001b[0mimg\u001b[0m\u001b[1;33m)\u001b[0m\u001b[1;33m\u001b[0m\u001b[1;33m\u001b[0m\u001b[0m\n\u001b[0m\u001b[0;32m     65\u001b[0m     \u001b[0mv\u001b[0m \u001b[1;33m=\u001b[0m \u001b[0mhist_equ\u001b[0m\u001b[1;33m(\u001b[0m\u001b[0mimg_ref\u001b[0m\u001b[1;33m)\u001b[0m\u001b[1;33m\u001b[0m\u001b[1;33m\u001b[0m\u001b[0m\n\u001b[0;32m     66\u001b[0m \u001b[1;33m\u001b[0m\u001b[0m\n",
      "\u001b[1;32m<ipython-input-9-7751fb180005>\u001b[0m in \u001b[0;36mhist_equ\u001b[1;34m(img)\u001b[0m\n\u001b[0;32m     45\u001b[0m     \u001b[0mrows\u001b[0m\u001b[1;33m,\u001b[0m \u001b[0mcols\u001b[0m \u001b[1;33m=\u001b[0m \u001b[0mimg\u001b[0m\u001b[1;33m.\u001b[0m\u001b[0mshape\u001b[0m\u001b[1;33m\u001b[0m\u001b[1;33m\u001b[0m\u001b[0m\n\u001b[0;32m     46\u001b[0m \u001b[1;33m\u001b[0m\u001b[0m\n\u001b[1;32m---> 47\u001b[1;33m     \u001b[0mfreq\u001b[0m \u001b[1;33m=\u001b[0m \u001b[0mfind_freq\u001b[0m\u001b[1;33m(\u001b[0m\u001b[0mimg\u001b[0m\u001b[1;33m,\u001b[0m \u001b[0mrows\u001b[0m\u001b[1;33m,\u001b[0m \u001b[0mcols\u001b[0m\u001b[1;33m)\u001b[0m\u001b[1;33m\u001b[0m\u001b[1;33m\u001b[0m\u001b[0m\n\u001b[0m\u001b[0;32m     48\u001b[0m     \u001b[0mprob\u001b[0m \u001b[1;33m=\u001b[0m \u001b[0mfind_prob\u001b[0m\u001b[1;33m(\u001b[0m\u001b[0mfreq\u001b[0m\u001b[1;33m,\u001b[0m \u001b[0mrows\u001b[0m\u001b[1;33m,\u001b[0m \u001b[0mcols\u001b[0m\u001b[1;33m)\u001b[0m\u001b[1;33m\u001b[0m\u001b[1;33m\u001b[0m\u001b[0m\n\u001b[0;32m     49\u001b[0m     \u001b[0mcum_prob\u001b[0m \u001b[1;33m=\u001b[0m \u001b[0mfind_cum_prob\u001b[0m\u001b[1;33m(\u001b[0m\u001b[0mprob\u001b[0m\u001b[1;33m)\u001b[0m\u001b[1;33m\u001b[0m\u001b[1;33m\u001b[0m\u001b[0m\n",
      "\u001b[1;32m<ipython-input-9-7751fb180005>\u001b[0m in \u001b[0;36mfind_freq\u001b[1;34m(img, rows, cols)\u001b[0m\n\u001b[0;32m      8\u001b[0m         \u001b[1;32mfor\u001b[0m \u001b[0mj\u001b[0m \u001b[1;32min\u001b[0m \u001b[0mrange\u001b[0m\u001b[1;33m(\u001b[0m\u001b[0mrows\u001b[0m\u001b[1;33m)\u001b[0m\u001b[1;33m:\u001b[0m\u001b[1;33m\u001b[0m\u001b[1;33m\u001b[0m\u001b[0m\n\u001b[0;32m      9\u001b[0m             \u001b[1;32mfor\u001b[0m \u001b[0mk\u001b[0m \u001b[1;32min\u001b[0m \u001b[0mrange\u001b[0m\u001b[1;33m(\u001b[0m\u001b[0mcols\u001b[0m\u001b[1;33m)\u001b[0m\u001b[1;33m:\u001b[0m\u001b[1;33m\u001b[0m\u001b[1;33m\u001b[0m\u001b[0m\n\u001b[1;32m---> 10\u001b[1;33m                 \u001b[1;32mif\u001b[0m\u001b[1;33m(\u001b[0m\u001b[0mimg\u001b[0m\u001b[1;33m[\u001b[0m\u001b[0mj\u001b[0m\u001b[1;33m]\u001b[0m\u001b[1;33m[\u001b[0m\u001b[0mk\u001b[0m\u001b[1;33m]\u001b[0m\u001b[1;33m==\u001b[0m\u001b[0mi\u001b[0m\u001b[1;33m)\u001b[0m\u001b[1;33m:\u001b[0m\u001b[1;33m\u001b[0m\u001b[1;33m\u001b[0m\u001b[0m\n\u001b[0m\u001b[0;32m     11\u001b[0m                     \u001b[0mcount\u001b[0m \u001b[1;33m=\u001b[0m \u001b[0mcount\u001b[0m \u001b[1;33m+\u001b[0m \u001b[1;36m1\u001b[0m\u001b[1;33m\u001b[0m\u001b[1;33m\u001b[0m\u001b[0m\n\u001b[0;32m     12\u001b[0m         \u001b[0mfr\u001b[0m\u001b[1;33m.\u001b[0m\u001b[0mappend\u001b[0m\u001b[1;33m(\u001b[0m\u001b[0mcount\u001b[0m\u001b[1;33m)\u001b[0m\u001b[1;33m\u001b[0m\u001b[1;33m\u001b[0m\u001b[0m\n",
      "\u001b[1;31mKeyboardInterrupt\u001b[0m: "
     ]
    }
   ],
   "source": [
    "# User defined function for histogram matching\n",
    "\n",
    "def find_freq(img, rows, cols):\n",
    "#     rows, cols = img.shape\n",
    "    fr = []\n",
    "    for i in range(256):\n",
    "        count = 0\n",
    "        for j in range(rows):\n",
    "            for k in range(cols):\n",
    "                if(img[j][k]==i):\n",
    "                    count = count + 1\n",
    "        fr.append(count)\n",
    "    \n",
    "    return fr\n",
    "\n",
    "def find_prob(fr, rows, cols):\n",
    "    total_pixels = rows * cols\n",
    "    \n",
    "    prob = []\n",
    "    for i in range(len(fr)):\n",
    "        prob.append(fr[i]/total_pixels)\n",
    "    \n",
    "    return prob\n",
    "\n",
    "def find_cum_prob(prob):\n",
    "    cum_prob = []\n",
    "    prev = 0\n",
    "    for i in range(len(prob)):\n",
    "        prev = prev + prob[i]\n",
    "        cum_prob.append(prev)\n",
    "    \n",
    "    return cum_prob\n",
    "\n",
    "def find_s(cum_prob):\n",
    "    s = []\n",
    "    for i in range(len(cum_prob)):\n",
    "        s.append(round(cum_prob[i]*255))\n",
    "    \n",
    "    return s\n",
    "\n",
    "\n",
    "        \n",
    "        \n",
    "def hist_equ(img):\n",
    "    rows, cols = img.shape\n",
    "    \n",
    "    freq = find_freq(img, rows, cols)\n",
    "    prob = find_prob(freq, rows, cols)\n",
    "    cum_prob = find_cum_prob(prob)\n",
    "    s = find_s(cum_prob)\n",
    "    \n",
    "    return s\n",
    "\n",
    "#     equ_img = np.zeros((rows, cols))\n",
    "#     for i in range(rows):\n",
    "#         for j in range(cols):\n",
    "#             r = img[i][j]\n",
    "#             equ_img[i][j] = s[r]\n",
    "    \n",
    "#     return equ_img\n",
    "\n",
    "\n",
    "def hist_match(img, img_ref):\n",
    "    s = hist_equ(img)\n",
    "    v = hist_equ(img_ref)\n",
    "    \n",
    "#     rows, cols = img.shape\n",
    "#     match_img = np.zeros((rows, cols))\n",
    "    \n",
    "#     r = []\n",
    "#     for i in range(256):\n",
    "#         temp = 0\n",
    "#         for j in range(len(v)):\n",
    "#             if(v[j]==s[i]):\n",
    "#                 r .append(j)\n",
    "#                 temp = 1\n",
    "        \n",
    "#         if(temp==0):\n",
    "#             near = []\n",
    "            \n",
    "#             for k in range(len(v)):\n",
    "#                 near.append(abs(v[k]-s[i]))\n",
    "\n",
    "\n",
    "    return s, v\n",
    "                \n",
    "\n",
    "\n",
    "s, v = hist_match(img2, img2_ref)\n",
    "# print(s, v)"
   ]
  },
  {
   "cell_type": "code",
   "execution_count": 8,
   "metadata": {},
   "outputs": [
    {
     "name": "stdout",
     "output_type": "stream",
     "text": [
      "256 256\n"
     ]
    }
   ],
   "source": [
    "print(len(s), len(v))"
   ]
  },
  {
   "cell_type": "code",
   "execution_count": 11,
   "metadata": {},
   "outputs": [],
   "source": [
    "rows, cols = img2.shape\n",
    "match_img = np.zeros((rows, cols))\n",
    "\n",
    "r = []\n",
    "count = 0\n",
    "for i in range(256):\n",
    "    temp = 0\n",
    "    for j in range(len(v)):\n",
    "        if(v[j]==s[i]):\n",
    "            r .append(j)\n",
    "            temp = 1\n",
    "            break\n",
    "\n",
    "    if(temp==0):\n",
    "        near = []\n",
    "#         print(i, 'A')\n",
    "        for k in range(len(v)):\n",
    "            near.append(abs(v[k]-s[i]))\n",
    "#         print(near.count((min(near))))\n",
    "        r.append(near[near.index(min(near))])\n",
    "\n",
    "\n",
    "match_img = np.zeros((rows, cols))\n",
    "for i in range(rows):\n",
    "    for j in range(cols):\n",
    "        tmp = img2[i][j]\n",
    "        match_img[i][j] = r[tmp]\n",
    "\n",
    "\n",
    "match_img = np.array(match_img, dtype='uint8')\n",
    "\n",
    "cv2.imshow('match_img_1', match_img)\n",
    "cv2.waitKey(0)\n",
    "cv2.destroyAllWindows()\n",
    "    \n",
    "# print(match_img)"
   ]
  },
  {
   "cell_type": "code",
   "execution_count": 20,
   "metadata": {},
   "outputs": [],
   "source": []
  },
  {
   "cell_type": "code",
   "execution_count": 21,
   "metadata": {},
   "outputs": [],
   "source": []
  },
  {
   "cell_type": "code",
   "execution_count": 30,
   "metadata": {},
   "outputs": [],
   "source": []
  },
  {
   "cell_type": "code",
   "execution_count": null,
   "metadata": {},
   "outputs": [],
   "source": []
  },
  {
   "cell_type": "markdown",
   "metadata": {},
   "source": [
    "# Done"
   ]
  },
  {
   "cell_type": "code",
   "execution_count": 15,
   "metadata": {},
   "outputs": [
    {
     "data": {
      "text/plain": [
       "1"
      ]
     },
     "execution_count": 15,
     "metadata": {},
     "output_type": "execute_result"
    }
   ],
   "source": [
    "arr = [1, 2, 1, 3]\n",
    "\n",
    "int(median(arr))"
   ]
  }
 ],
 "metadata": {
  "kernelspec": {
   "display_name": "Python 3",
   "language": "python",
   "name": "python3"
  },
  "language_info": {
   "codemirror_mode": {
    "name": "ipython",
    "version": 3
   },
   "file_extension": ".py",
   "mimetype": "text/x-python",
   "name": "python",
   "nbconvert_exporter": "python",
   "pygments_lexer": "ipython3",
   "version": "3.7.4"
  }
 },
 "nbformat": 4,
 "nbformat_minor": 2
}
